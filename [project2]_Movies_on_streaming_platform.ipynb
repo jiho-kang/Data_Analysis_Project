{
  "nbformat": 4,
  "nbformat_minor": 0,
  "metadata": {
    "accelerator": "GPU",
    "colab": {
      "name": "[project2]_Movies_on_streaming_platform.ipynb",
      "provenance": [],
      "collapsed_sections": [
        "hYhQPyIM6Q1P",
        "qLNkY85R6fxR",
        "GixhnCkKUpJ4",
        "JaaixYRkUwNV",
        "XQN1QuXrggXP",
        "f-v32ssAY1R7",
        "kxLb8AsOZ_oJ",
        "0utMqU1Caxkp",
        "8CcTXccVEx-e",
        "aPW9Fk-rOoA1",
        "UjF0l85WE38S",
        "PmVUMXEyUqCJ",
        "8vD4vV4byGIf",
        "zWpfGrroyqNR"
      ],
      "include_colab_link": true
    },
    "kernelspec": {
      "display_name": "Python 3",
      "name": "python3"
    },
    "language_info": {
      "name": "python"
    }
  },
  "cells": [
    {
      "cell_type": "markdown",
      "metadata": {
        "id": "view-in-github",
        "colab_type": "text"
      },
      "source": [
        "<a href=\"https://colab.research.google.com/github/jiho-kang/Data_Analysis_Project/blob/main/%5Bproject2%5D_Movies_on_streaming_platform.ipynb\" target=\"_parent\"><img src=\"https://colab.research.google.com/assets/colab-badge.svg\" alt=\"Open In Colab\"/></a>"
      ]
    },
    {
      "cell_type": "markdown",
      "metadata": {
        "id": "jKRZjjri4ami"
      },
      "source": [
        "## Movies on Netflix, Prime Video, Hulu and Disney+\n",
        "스트리밍 플랫폼(Netflix, Prime Video, Hulu and Disney+)에 올라온 영화의 정보로 평점 예측하기\n",
        "\n",
        "\n",
        "    > ID : 영화 식별번호\n",
        "    > Title\n",
        "    > Year: 방영년도\n",
        "    > Age: 연령층\n",
        "    > IMDb: 시청률\n",
        "    > Rotten Tomatoes: 평점 (target)\n",
        "    > Netfilx, Hulu, Prime Video, Disney+ : 해당 플랫폼에서 찾을 수 있으면 1, 없으면 0\n",
        "    > Directors: 여러명 입력 가능\n",
        "    > Genre: 여러개 입력 가능\n",
        "    > Country: 여러 나라 입력 가능\n",
        "    > Language: 여러 언어 입력 가능\n",
        "    > Runtime"
      ]
    },
    {
      "cell_type": "markdown",
      "metadata": {
        "id": "hYhQPyIM6Q1P"
      },
      "source": [
        "### 데이터 가져오기 및 파악하기"
      ]
    },
    {
      "cell_type": "code",
      "metadata": {
        "colab": {
          "base_uri": "https://localhost:8080/"
        },
        "id": "3jf2R9ApW5Cu",
        "outputId": "96b18900-5c57-4b08-c258-3c48de24a01c"
      },
      "source": [
        "from google.colab import drive\n",
        "drive.mount('/content/drive')"
      ],
      "execution_count": null,
      "outputs": [
        {
          "name": "stdout",
          "output_type": "stream",
          "text": [
            "Mounted at /content/drive\n"
          ]
        }
      ]
    },
    {
      "cell_type": "code",
      "metadata": {
        "id": "Wbezw1IL4BUs"
      },
      "source": [
        "import pandas as pd\n",
        "pd.options.display.max_columns = None\n",
        "pd.options.display.max_rows = 999"
      ],
      "execution_count": null,
      "outputs": []
    },
    {
      "cell_type": "code",
      "metadata": {
        "colab": {
          "base_uri": "https://localhost:8080/",
          "height": 388
        },
        "id": "RwDdnOLE3y9R",
        "outputId": "3b9b4995-bd93-47ff-b04c-2278e6f38a11"
      },
      "source": [
        "import pandas as pd\n",
        "df_ori = pd.read_csv('/content/drive/MyDrive/MoviesOnStreamingPlatforms_updated.csv', )\n",
        "df_ori = df_ori.iloc[:,2:]\n",
        "df_ori.head()"
      ],
      "execution_count": null,
      "outputs": [
        {
          "data": {
            "text/html": [
              "<div>\n",
              "<style scoped>\n",
              "    .dataframe tbody tr th:only-of-type {\n",
              "        vertical-align: middle;\n",
              "    }\n",
              "\n",
              "    .dataframe tbody tr th {\n",
              "        vertical-align: top;\n",
              "    }\n",
              "\n",
              "    .dataframe thead th {\n",
              "        text-align: right;\n",
              "    }\n",
              "</style>\n",
              "<table border=\"1\" class=\"dataframe\">\n",
              "  <thead>\n",
              "    <tr style=\"text-align: right;\">\n",
              "      <th></th>\n",
              "      <th>Title</th>\n",
              "      <th>Year</th>\n",
              "      <th>Age</th>\n",
              "      <th>IMDb</th>\n",
              "      <th>Rotten Tomatoes</th>\n",
              "      <th>Netflix</th>\n",
              "      <th>Hulu</th>\n",
              "      <th>Prime Video</th>\n",
              "      <th>Disney+</th>\n",
              "      <th>Type</th>\n",
              "      <th>Directors</th>\n",
              "      <th>Genres</th>\n",
              "      <th>Country</th>\n",
              "      <th>Language</th>\n",
              "      <th>Runtime</th>\n",
              "    </tr>\n",
              "  </thead>\n",
              "  <tbody>\n",
              "    <tr>\n",
              "      <th>0</th>\n",
              "      <td>The Irishman</td>\n",
              "      <td>2019</td>\n",
              "      <td>18+</td>\n",
              "      <td>7.8/10</td>\n",
              "      <td>98/100</td>\n",
              "      <td>1</td>\n",
              "      <td>0</td>\n",
              "      <td>0</td>\n",
              "      <td>0</td>\n",
              "      <td>0</td>\n",
              "      <td>Martin Scorsese</td>\n",
              "      <td>Biography,Crime,Drama</td>\n",
              "      <td>United States</td>\n",
              "      <td>English,Italian,Latin,Spanish,German</td>\n",
              "      <td>209.0</td>\n",
              "    </tr>\n",
              "    <tr>\n",
              "      <th>1</th>\n",
              "      <td>Dangal</td>\n",
              "      <td>2016</td>\n",
              "      <td>7+</td>\n",
              "      <td>8.4/10</td>\n",
              "      <td>97/100</td>\n",
              "      <td>1</td>\n",
              "      <td>0</td>\n",
              "      <td>0</td>\n",
              "      <td>0</td>\n",
              "      <td>0</td>\n",
              "      <td>Nitesh Tiwari</td>\n",
              "      <td>Action,Biography,Drama,Sport</td>\n",
              "      <td>India,United States,United Kingdom,Australia,K...</td>\n",
              "      <td>Hindi,English</td>\n",
              "      <td>161.0</td>\n",
              "    </tr>\n",
              "    <tr>\n",
              "      <th>2</th>\n",
              "      <td>David Attenborough: A Life on Our Planet</td>\n",
              "      <td>2020</td>\n",
              "      <td>7+</td>\n",
              "      <td>9.0/10</td>\n",
              "      <td>95/100</td>\n",
              "      <td>1</td>\n",
              "      <td>0</td>\n",
              "      <td>0</td>\n",
              "      <td>0</td>\n",
              "      <td>0</td>\n",
              "      <td>Alastair Fothergill,Jonathan Hughes,Keith Scholey</td>\n",
              "      <td>Documentary,Biography</td>\n",
              "      <td>United Kingdom</td>\n",
              "      <td>English</td>\n",
              "      <td>83.0</td>\n",
              "    </tr>\n",
              "    <tr>\n",
              "      <th>3</th>\n",
              "      <td>Lagaan: Once Upon a Time in India</td>\n",
              "      <td>2001</td>\n",
              "      <td>7+</td>\n",
              "      <td>8.1/10</td>\n",
              "      <td>94/100</td>\n",
              "      <td>1</td>\n",
              "      <td>0</td>\n",
              "      <td>0</td>\n",
              "      <td>0</td>\n",
              "      <td>0</td>\n",
              "      <td>Ashutosh Gowariker</td>\n",
              "      <td>Drama,Musical,Sport</td>\n",
              "      <td>India,United Kingdom</td>\n",
              "      <td>Hindi,English</td>\n",
              "      <td>224.0</td>\n",
              "    </tr>\n",
              "    <tr>\n",
              "      <th>4</th>\n",
              "      <td>Roma</td>\n",
              "      <td>2018</td>\n",
              "      <td>18+</td>\n",
              "      <td>7.7/10</td>\n",
              "      <td>94/100</td>\n",
              "      <td>1</td>\n",
              "      <td>0</td>\n",
              "      <td>0</td>\n",
              "      <td>0</td>\n",
              "      <td>0</td>\n",
              "      <td>NaN</td>\n",
              "      <td>Action,Drama,History,Romance,War</td>\n",
              "      <td>United Kingdom,United States</td>\n",
              "      <td>English</td>\n",
              "      <td>52.0</td>\n",
              "    </tr>\n",
              "  </tbody>\n",
              "</table>\n",
              "</div>"
            ],
            "text/plain": [
              "                                      Title  Year  Age    IMDb  \\\n",
              "0                              The Irishman  2019  18+  7.8/10   \n",
              "1                                    Dangal  2016   7+  8.4/10   \n",
              "2  David Attenborough: A Life on Our Planet  2020   7+  9.0/10   \n",
              "3         Lagaan: Once Upon a Time in India  2001   7+  8.1/10   \n",
              "4                                      Roma  2018  18+  7.7/10   \n",
              "\n",
              "  Rotten Tomatoes  Netflix  Hulu  Prime Video  Disney+  Type  \\\n",
              "0          98/100        1     0            0        0     0   \n",
              "1          97/100        1     0            0        0     0   \n",
              "2          95/100        1     0            0        0     0   \n",
              "3          94/100        1     0            0        0     0   \n",
              "4          94/100        1     0            0        0     0   \n",
              "\n",
              "                                           Directors  \\\n",
              "0                                    Martin Scorsese   \n",
              "1                                      Nitesh Tiwari   \n",
              "2  Alastair Fothergill,Jonathan Hughes,Keith Scholey   \n",
              "3                                 Ashutosh Gowariker   \n",
              "4                                                NaN   \n",
              "\n",
              "                             Genres  \\\n",
              "0             Biography,Crime,Drama   \n",
              "1      Action,Biography,Drama,Sport   \n",
              "2             Documentary,Biography   \n",
              "3               Drama,Musical,Sport   \n",
              "4  Action,Drama,History,Romance,War   \n",
              "\n",
              "                                             Country  \\\n",
              "0                                      United States   \n",
              "1  India,United States,United Kingdom,Australia,K...   \n",
              "2                                     United Kingdom   \n",
              "3                               India,United Kingdom   \n",
              "4                       United Kingdom,United States   \n",
              "\n",
              "                               Language  Runtime  \n",
              "0  English,Italian,Latin,Spanish,German    209.0  \n",
              "1                         Hindi,English    161.0  \n",
              "2                               English     83.0  \n",
              "3                         Hindi,English    224.0  \n",
              "4                               English     52.0  "
            ]
          },
          "execution_count": 4,
          "metadata": {},
          "output_type": "execute_result"
        }
      ]
    },
    {
      "cell_type": "code",
      "metadata": {
        "colab": {
          "base_uri": "https://localhost:8080/"
        },
        "id": "l78_DQ_M30yy",
        "outputId": "185eea23-10a9-46c7-e3d2-50181ae8a34e"
      },
      "source": [
        "df_ori.columns"
      ],
      "execution_count": null,
      "outputs": [
        {
          "data": {
            "text/plain": [
              "Index(['Title', 'Year', 'Age', 'IMDb', 'Rotten Tomatoes', 'Netflix', 'Hulu',\n",
              "       'Prime Video', 'Disney+', 'Type', 'Directors', 'Genres', 'Country',\n",
              "       'Language', 'Runtime'],\n",
              "      dtype='object')"
            ]
          },
          "execution_count": 5,
          "metadata": {},
          "output_type": "execute_result"
        }
      ]
    },
    {
      "cell_type": "code",
      "metadata": {
        "colab": {
          "base_uri": "https://localhost:8080/"
        },
        "id": "71d9mkCc35Ch",
        "outputId": "449853d4-61e4-46bf-9f8f-7442b21d375e"
      },
      "source": [
        "df_ori.info()"
      ],
      "execution_count": null,
      "outputs": [
        {
          "name": "stdout",
          "output_type": "stream",
          "text": [
            "<class 'pandas.core.frame.DataFrame'>\n",
            "RangeIndex: 9515 entries, 0 to 9514\n",
            "Data columns (total 15 columns):\n",
            " #   Column           Non-Null Count  Dtype  \n",
            "---  ------           --------------  -----  \n",
            " 0   Title            9515 non-null   object \n",
            " 1   Year             9515 non-null   int64  \n",
            " 2   Age              5338 non-null   object \n",
            " 3   IMDb             9309 non-null   object \n",
            " 4   Rotten Tomatoes  9508 non-null   object \n",
            " 5   Netflix          9515 non-null   int64  \n",
            " 6   Hulu             9515 non-null   int64  \n",
            " 7   Prime Video      9515 non-null   int64  \n",
            " 8   Disney+          9515 non-null   int64  \n",
            " 9   Type             9515 non-null   int64  \n",
            " 10  Directors        9104 non-null   object \n",
            " 11  Genres           9399 non-null   object \n",
            " 12  Country          9261 non-null   object \n",
            " 13  Language         9202 non-null   object \n",
            " 14  Runtime          9196 non-null   float64\n",
            "dtypes: float64(1), int64(6), object(8)\n",
            "memory usage: 1.1+ MB\n"
          ]
        }
      ]
    },
    {
      "cell_type": "code",
      "metadata": {
        "colab": {
          "base_uri": "https://localhost:8080/"
        },
        "id": "ONvPp_Mg3-EQ",
        "outputId": "3bab2b40-dece-401f-8940-9b3003266b57"
      },
      "source": [
        "df_ori.isnull().sum()"
      ],
      "execution_count": null,
      "outputs": [
        {
          "data": {
            "text/plain": [
              "Title                 0\n",
              "Year                  0\n",
              "Age                4177\n",
              "IMDb                206\n",
              "Rotten Tomatoes       7\n",
              "Netflix               0\n",
              "Hulu                  0\n",
              "Prime Video           0\n",
              "Disney+               0\n",
              "Type                  0\n",
              "Directors           411\n",
              "Genres              116\n",
              "Country             254\n",
              "Language            313\n",
              "Runtime             319\n",
              "dtype: int64"
            ]
          },
          "execution_count": 7,
          "metadata": {},
          "output_type": "execute_result"
        }
      ]
    },
    {
      "cell_type": "markdown",
      "metadata": {
        "id": "TPzDWfBcxoZR"
      },
      "source": [
        "## 모델1\n",
        "- target: rotten tomatoes' \n",
        "- features: drop.target"
      ]
    },
    {
      "cell_type": "markdown",
      "metadata": {
        "id": "WTe-hjwH6UP_"
      },
      "source": [
        "### 전처리"
      ]
    },
    {
      "cell_type": "markdown",
      "metadata": {
        "id": "qLNkY85R6fxR"
      },
      "source": [
        "#### Target: 'Rotten Tomatoes'\n",
        "- null행 삭제\n",
        "- '/100' 삭제\n",
        "- astype('float')"
      ]
    },
    {
      "cell_type": "code",
      "metadata": {
        "colab": {
          "base_uri": "https://localhost:8080/"
        },
        "id": "W5USeZoj4F0u",
        "outputId": "1b0b5e6a-3e25-47ad-d856-bdc3a610c99c"
      },
      "source": [
        "#target 값이 없는 행은 제거\n",
        "df_01 = df_ori.copy()\n",
        "print(len(df_01))\n",
        "\n",
        "target = 'Rotten Tomatoes'\n",
        "df_01 = df_01.dropna(subset=[target])\n",
        "print(len(df_01))\n",
        "\n",
        "df_01[target] = df_01[target].str.replace('/100','').astype('float')\n",
        "df_01[target].dtype"
      ],
      "execution_count": null,
      "outputs": [
        {
          "name": "stdout",
          "output_type": "stream",
          "text": [
            "9515\n",
            "9508\n"
          ]
        },
        {
          "data": {
            "text/plain": [
              "dtype('float64')"
            ]
          },
          "execution_count": 8,
          "metadata": {},
          "output_type": "execute_result"
        }
      ]
    },
    {
      "cell_type": "code",
      "metadata": {
        "colab": {
          "base_uri": "https://localhost:8080/"
        },
        "id": "PhKvDP_FQXLe",
        "outputId": "7bdaf291-e497-44a8-9c31-1820c80dfc6c"
      },
      "source": [
        "df_01.isnull().sum()"
      ],
      "execution_count": null,
      "outputs": [
        {
          "data": {
            "text/plain": [
              "Title                 0\n",
              "Year                  0\n",
              "Age                4170\n",
              "IMDb                199\n",
              "Rotten Tomatoes       0\n",
              "Netflix               0\n",
              "Hulu                  0\n",
              "Prime Video           0\n",
              "Disney+               0\n",
              "Type                  0\n",
              "Directors           406\n",
              "Genres              113\n",
              "Country             249\n",
              "Language            308\n",
              "Runtime             315\n",
              "dtype: int64"
            ]
          },
          "execution_count": 9,
          "metadata": {},
          "output_type": "execute_result"
        }
      ]
    },
    {
      "cell_type": "markdown",
      "metadata": {
        "id": "GixhnCkKUpJ4"
      },
      "source": [
        "#### Age\n",
        "- '+'제거\n",
        "- all -> 0\n",
        "- astype('float')\n",
        "\n",
        "  Age는 순서는 있어도 그 폭과는 상관 없다. target encoder로 처리될 수 있도록 fillna('missing')처리"
      ]
    },
    {
      "cell_type": "code",
      "metadata": {
        "colab": {
          "base_uri": "https://localhost:8080/"
        },
        "id": "Ay5GAr7i9uxo",
        "outputId": "a42bded2-17b8-41ec-f084-10dabfe1137b"
      },
      "source": [
        "# Age\n",
        "df_02 = df_01.copy()\n",
        "\n",
        "df_02.Age = df_02.Age.str.replace('+','').replace('all',0)\n",
        "df_02.Age = df_02.Age.astype('float')\n",
        "print(df_02.Age.value_counts(dropna=False))\n",
        "\n",
        "df_02.info()"
      ],
      "execution_count": null,
      "outputs": [
        {
          "name": "stdout",
          "output_type": "stream",
          "text": [
            "NaN     4170\n",
            "18.0    2276\n",
            "7.0     1090\n",
            "13.0     998\n",
            "0.0      698\n",
            "16.0     276\n",
            "Name: Age, dtype: int64\n",
            "<class 'pandas.core.frame.DataFrame'>\n",
            "Int64Index: 9508 entries, 0 to 9514\n",
            "Data columns (total 15 columns):\n",
            " #   Column           Non-Null Count  Dtype  \n",
            "---  ------           --------------  -----  \n",
            " 0   Title            9508 non-null   object \n",
            " 1   Year             9508 non-null   int64  \n",
            " 2   Age              5338 non-null   float64\n",
            " 3   IMDb             9309 non-null   object \n",
            " 4   Rotten Tomatoes  9508 non-null   float64\n",
            " 5   Netflix          9508 non-null   int64  \n",
            " 6   Hulu             9508 non-null   int64  \n",
            " 7   Prime Video      9508 non-null   int64  \n",
            " 8   Disney+          9508 non-null   int64  \n",
            " 9   Type             9508 non-null   int64  \n",
            " 10  Directors        9102 non-null   object \n",
            " 11  Genres           9395 non-null   object \n",
            " 12  Country          9259 non-null   object \n",
            " 13  Language         9200 non-null   object \n",
            " 14  Runtime          9193 non-null   float64\n",
            "dtypes: float64(3), int64(6), object(6)\n",
            "memory usage: 1.2+ MB\n"
          ]
        }
      ]
    },
    {
      "cell_type": "markdown",
      "metadata": {
        "id": "JaaixYRkUwNV"
      },
      "source": [
        "#### IMDb\n",
        "- '/10'제거\n",
        "- astype('float')"
      ]
    },
    {
      "cell_type": "code",
      "metadata": {
        "colab": {
          "base_uri": "https://localhost:8080/"
        },
        "id": "g0VaSDRZTbVI",
        "outputId": "e8245f88-382a-4ef1-a3b3-40820e8ed825"
      },
      "source": [
        "# IMDb\n",
        "df_03 = df_02.copy()\n",
        "\n",
        "df_03.IMDb = df_03.IMDb.str.replace('/10','')\n",
        "df_03.IMDb = pd.to_numeric(df_03.IMDb)\n",
        "\n",
        "df_03.info()"
      ],
      "execution_count": null,
      "outputs": [
        {
          "name": "stdout",
          "output_type": "stream",
          "text": [
            "<class 'pandas.core.frame.DataFrame'>\n",
            "Int64Index: 9508 entries, 0 to 9514\n",
            "Data columns (total 15 columns):\n",
            " #   Column           Non-Null Count  Dtype  \n",
            "---  ------           --------------  -----  \n",
            " 0   Title            9508 non-null   object \n",
            " 1   Year             9508 non-null   int64  \n",
            " 2   Age              5338 non-null   float64\n",
            " 3   IMDb             9309 non-null   float64\n",
            " 4   Rotten Tomatoes  9508 non-null   float64\n",
            " 5   Netflix          9508 non-null   int64  \n",
            " 6   Hulu             9508 non-null   int64  \n",
            " 7   Prime Video      9508 non-null   int64  \n",
            " 8   Disney+          9508 non-null   int64  \n",
            " 9   Type             9508 non-null   int64  \n",
            " 10  Directors        9102 non-null   object \n",
            " 11  Genres           9395 non-null   object \n",
            " 12  Country          9259 non-null   object \n",
            " 13  Language         9200 non-null   object \n",
            " 14  Runtime          9193 non-null   float64\n",
            "dtypes: float64(4), int64(6), object(5)\n",
            "memory usage: 1.2+ MB\n"
          ]
        }
      ]
    },
    {
      "cell_type": "code",
      "metadata": {
        "id": "oD9w_oBrt7bi"
      },
      "source": [
        "# 위 코드보다 아래 코드가 memory, time usage에서 어떠한지 확인해보기\n",
        "data[\"IMDb\"] = [float(score[0:3]) for score in data[\"IMDb\"]]\n",
        "data[\"Rotten Tomatoes\"] = [float(score[0:2]) for score in data[\"Rotten Tomatoes\"]]"
      ],
      "execution_count": null,
      "outputs": []
    },
    {
      "cell_type": "markdown",
      "metadata": {
        "id": "XQN1QuXrggXP"
      },
      "source": [
        "#### Gneres, Director, Country, Language\n",
        "- fillna('missing') -> 어차피 target encoder로 평균으로 채워주기 때문에 굳이 필요가 없었다."
      ]
    },
    {
      "cell_type": "code",
      "metadata": {
        "colab": {
          "base_uri": "https://localhost:8080/"
        },
        "id": "kHemPYMbhQx0",
        "outputId": "f3b81e44-6e4f-4db5-88b1-6a784cefbd8f"
      },
      "source": [
        "df_03.isnull().sum()"
      ],
      "execution_count": null,
      "outputs": [
        {
          "data": {
            "text/plain": [
              "Title                 0\n",
              "Year                  0\n",
              "Age                4170\n",
              "IMDb                199\n",
              "Rotten Tomatoes       0\n",
              "Netflix               0\n",
              "Hulu                  0\n",
              "Prime Video           0\n",
              "Disney+               0\n",
              "Type                  0\n",
              "Directors           406\n",
              "Genres              113\n",
              "Country             249\n",
              "Language            308\n",
              "Runtime             315\n",
              "dtype: int64"
            ]
          },
          "execution_count": 12,
          "metadata": {},
          "output_type": "execute_result"
        }
      ]
    },
    {
      "cell_type": "code",
      "metadata": {
        "colab": {
          "base_uri": "https://localhost:8080/"
        },
        "id": "V2UD680hibrR",
        "outputId": "c9175303-abe9-4795-979d-d0f3499fae9c"
      },
      "source": [
        "df_04 = df_03.copy()\n",
        "cols = ['Genres', 'Directors', 'Country', 'Language']\n",
        "df_04[cols] = df_04[cols].fillna('missing')\n",
        "df_04.isnull().sum()"
      ],
      "execution_count": null,
      "outputs": [
        {
          "data": {
            "text/plain": [
              "Title                 0\n",
              "Year                  0\n",
              "Age                4170\n",
              "IMDb                199\n",
              "Rotten Tomatoes       0\n",
              "Netflix               0\n",
              "Hulu                  0\n",
              "Prime Video           0\n",
              "Disney+               0\n",
              "Type                  0\n",
              "Directors             0\n",
              "Genres                0\n",
              "Country               0\n",
              "Language              0\n",
              "Runtime             315\n",
              "dtype: int64"
            ]
          },
          "execution_count": 13,
          "metadata": {},
          "output_type": "execute_result"
        }
      ]
    },
    {
      "cell_type": "markdown",
      "metadata": {
        "id": "f-v32ssAY1R7"
      },
      "source": [
        "### Feature Engineering"
      ]
    },
    {
      "cell_type": "code",
      "metadata": {
        "colab": {
          "base_uri": "https://localhost:8080/"
        },
        "id": "ZeDH5Q-pal48",
        "outputId": "8c890b3f-f1aa-43f2-e168-afa347fc962f"
      },
      "source": [
        "df = df_04.copy()\n",
        "df.info()"
      ],
      "execution_count": null,
      "outputs": [
        {
          "name": "stdout",
          "output_type": "stream",
          "text": [
            "<class 'pandas.core.frame.DataFrame'>\n",
            "Int64Index: 9508 entries, 0 to 9514\n",
            "Data columns (total 15 columns):\n",
            " #   Column           Non-Null Count  Dtype  \n",
            "---  ------           --------------  -----  \n",
            " 0   Title            9508 non-null   object \n",
            " 1   Year             9508 non-null   int64  \n",
            " 2   Age              5338 non-null   float64\n",
            " 3   IMDb             9309 non-null   float64\n",
            " 4   Rotten Tomatoes  9508 non-null   float64\n",
            " 5   Netflix          9508 non-null   int64  \n",
            " 6   Hulu             9508 non-null   int64  \n",
            " 7   Prime Video      9508 non-null   int64  \n",
            " 8   Disney+          9508 non-null   int64  \n",
            " 9   Type             9508 non-null   int64  \n",
            " 10  Directors        9508 non-null   object \n",
            " 11  Genres           9508 non-null   object \n",
            " 12  Country          9508 non-null   object \n",
            " 13  Language         9508 non-null   object \n",
            " 14  Runtime          9193 non-null   float64\n",
            "dtypes: float64(4), int64(6), object(5)\n",
            "memory usage: 1.2+ MB\n"
          ]
        }
      ]
    },
    {
      "cell_type": "code",
      "metadata": {
        "colab": {
          "base_uri": "https://localhost:8080/"
        },
        "id": "7-AaQnBNAQpL",
        "outputId": "b1cd62c7-8b09-4225-94c5-5fa35eeb25bc"
      },
      "source": [
        "df.isnull().sum()"
      ],
      "execution_count": null,
      "outputs": [
        {
          "data": {
            "text/plain": [
              "Title                 0\n",
              "Year                  0\n",
              "Age                4170\n",
              "IMDb                199\n",
              "Rotten Tomatoes       0\n",
              "Netflix               0\n",
              "Hulu                  0\n",
              "Prime Video           0\n",
              "Disney+               0\n",
              "Type                  0\n",
              "Directors             0\n",
              "Genres                0\n",
              "Country               0\n",
              "Language              0\n",
              "Runtime             315\n",
              "dtype: int64"
            ]
          },
          "execution_count": 15,
          "metadata": {},
          "output_type": "execute_result"
        }
      ]
    },
    {
      "cell_type": "markdown",
      "metadata": {
        "id": "kxLb8AsOZ_oJ"
      },
      "source": [
        "#### 시리즈 여부"
      ]
    },
    {
      "cell_type": "code",
      "metadata": {
        "id": "oO-lX-VIZQ_3"
      },
      "source": [
        "# 시리즈물인지 아닌지 여부"
      ],
      "execution_count": null,
      "outputs": []
    },
    {
      "cell_type": "code",
      "metadata": {
        "id": "zQi-AYTtbUqp"
      },
      "source": [
        "# df[df.Title.str.isdigit() | df.Title.str.contains(':')].sort_values('Title').head(100)"
      ],
      "execution_count": null,
      "outputs": []
    },
    {
      "cell_type": "code",
      "metadata": {
        "id": "rXAI72nDfvkv"
      },
      "source": [
        "# df.info()"
      ],
      "execution_count": null,
      "outputs": []
    },
    {
      "cell_type": "markdown",
      "metadata": {
        "id": "0utMqU1Caxkp"
      },
      "source": [
        "#### count or IMDb 값 높은 Genre, Directors top 5"
      ]
    },
    {
      "cell_type": "code",
      "metadata": {
        "id": "wd8sLeRouaMI"
      },
      "source": [
        "def topk(column):\n",
        "  eachs = set()\n",
        "  for sample in df[column].unique():\n",
        "    try:\n",
        "      sample = sample.split(',')\n",
        "      eachs.update(sample)\n",
        "    except: pass\n",
        "\n",
        "  each_count = dict()\n",
        "  for each in eachs:\n",
        "    count = df[df[column].str.contains(each)].shape[0]\n",
        "    average = df[df[column].str.contains(each)]['IMDb'].sum() / count\n",
        "    each_count[each] = [count, round(average,2)]\n",
        "  \n",
        "  by_count = sorted(each_count.items(), key = (lambda x: x[1]), reverse=True)\n",
        "  count_top5 = [i[0] for i in by_count[:5]]\n",
        "\n",
        "  by_imdb = sorted(each_count.items(), key = (lambda x: x[1][1]), reverse=True)\n",
        "  imdb_top5 = [i[0] for i in by_imdb[:5]]\n",
        "\n",
        "  return count_top5, imdb_top5\n",
        "\n",
        "genre_count_top5, genre_imdb_top5 = topk('Genres')\n",
        "director_count_top5, director_imdb_top５ = topk('Directors')\n",
        "\n"
      ],
      "execution_count": null,
      "outputs": []
    },
    {
      "cell_type": "code",
      "metadata": {
        "colab": {
          "base_uri": "https://localhost:8080/"
        },
        "id": "6gjFLnKZyoMg",
        "outputId": "f81717ac-3501-4b63-cbf5-ca02a34f030c"
      },
      "source": [
        "# check_genre = list(set(genre_count_top5 + genre_imdb_top5))\n",
        "check_director = list(set(director_count_top5 + director_imdb_top５))\n",
        "check_genre = genre_imdb_top5\n",
        "# check_director = director_imdb_top５\n",
        "print(check_genre)\n",
        "print(check_director)"
      ],
      "execution_count": null,
      "outputs": [
        {
          "name": "stdout",
          "output_type": "stream",
          "text": [
            "['Biography', 'History', 'Documentary', 'Film-Noir', 'News']\n",
            "['Matt Docter', 'PJ Moynihan', 'missing', 'Jay Chapman', 'Ram', 'Raúl Campos', 'Dennis M. Lynch', 'Amadeusz Kocan', 'Jan Suter', 'Jason Docter']\n"
          ]
        }
      ]
    },
    {
      "cell_type": "code",
      "metadata": {
        "colab": {
          "base_uri": "https://localhost:8080/"
        },
        "id": "nfsen0i3Xn3z",
        "outputId": "fb5b11fd-c684-417c-c055-dd38fede91ad"
      },
      "source": [
        "df['check_gerne'] = df.Genres.apply(lambda x: 1 if any(i in x for i in check_genre) else 0)\n",
        "df['check_director'] = df.Directors.apply(lambda x: 1 if any(i in x for i in check_director) else 0)\n",
        "print('dirctor')\n",
        "print(df.check_director.value_counts(normalize=True))\n",
        "print(df.check_gerne.value_counts(normalize=True))"
      ],
      "execution_count": null,
      "outputs": [
        {
          "name": "stdout",
          "output_type": "stream",
          "text": [
            "dirctor\n",
            "0    0.946676\n",
            "1    0.053324\n",
            "Name: check_director, dtype: float64\n",
            "0    0.823096\n",
            "1    0.176904\n",
            "Name: check_gerne, dtype: float64\n"
          ]
        }
      ]
    },
    {
      "cell_type": "markdown",
      "metadata": {
        "id": "8CcTXccVEx-e"
      },
      "source": [
        "### model 학습"
      ]
    },
    {
      "cell_type": "markdown",
      "metadata": {
        "id": "aPW9Fk-rOoA1"
      },
      "source": [
        "#### 데이터 split"
      ]
    },
    {
      "cell_type": "code",
      "metadata": {
        "id": "AgukQNGKOpwO"
      },
      "source": [
        "from sklearn.model_selection import train_test_split\n",
        "\n",
        "# train, val, test\n",
        "def split(df):\n",
        "  train_ori, test = train_test_split(df)\n",
        "  train, val = train_test_split(train_ori)\n",
        "  len(train), len(val), len(test)\n",
        "\n",
        "  X_train = train.drop(columns=target)\n",
        "  y_train = train[target]\n",
        "\n",
        "  X_val = val.drop(columns=target)\n",
        "  y_val = val[target]\n",
        "\n",
        "  X_test = test.drop(columns=target)\n",
        "  y_test = test[target]\n",
        "\n",
        "  return X_train, y_train, X_val, y_val, X_test, y_test\n",
        "\n",
        "X_train, y_train, X_val, y_val, X_test, y_test = split(df)"
      ],
      "execution_count": null,
      "outputs": []
    },
    {
      "cell_type": "markdown",
      "metadata": {
        "id": "UjF0l85WE38S"
      },
      "source": [
        "#### 기본모델"
      ]
    },
    {
      "cell_type": "code",
      "metadata": {
        "id": "ulbQMxCBTbjN"
      },
      "source": [
        "pip install --upgrade category_encoders"
      ],
      "execution_count": null,
      "outputs": []
    },
    {
      "cell_type": "code",
      "metadata": {
        "colab": {
          "base_uri": "https://localhost:8080/"
        },
        "id": "UQyXn5YVOVCy",
        "outputId": "6c330b0d-ddf3-4925-c70d-19402accfee1"
      },
      "source": [
        "from sklearn.metrics import r2_score, mean_absolute_error\n",
        "from xgboost import XGBRegressor\n",
        "from category_encoders import TargetEncoder\n",
        "from sklearn.impute import SimpleImputer\n",
        "from sklearn.preprocessing import StandardScaler\n",
        "from sklearn.pipeline import make_pipeline, Pipeline\n",
        "\n",
        "X_train2, y_train2, X_val2, y_val2, X_test2, y_test2 = split(df_04)\n",
        "\n",
        "pipe2 = make_pipeline(\n",
        "    TargetEncoder(),\n",
        "    SimpleImputer(),\n",
        "    XGBRegressor()    \n",
        ")\n",
        "\n",
        "\n",
        "pipe2.fit(X_train2, y_train2)\n",
        "pipe2.score(X_val2,y_val2) # 특성공학 전 모델의 검증 정확도"
      ],
      "execution_count": null,
      "outputs": [
        {
          "name": "stderr",
          "output_type": "stream",
          "text": [
            "/usr/local/lib/python3.7/dist-packages/statsmodels/tools/_testing.py:19: FutureWarning: pandas.util.testing is deprecated. Use the functions in the public API at pandas.testing instead.\n",
            "  import pandas.util.testing as tm\n",
            "/usr/local/lib/python3.7/dist-packages/category_encoders/utils.py:21: FutureWarning: is_categorical is deprecated and will be removed in a future version.  Use is_categorical_dtype instead\n",
            "  elif pd.api.types.is_categorical(cols):\n"
          ]
        },
        {
          "name": "stdout",
          "output_type": "stream",
          "text": [
            "[15:38:35] WARNING: /workspace/src/objective/regression_obj.cu:152: reg:linear is now deprecated in favor of reg:squarederror.\n"
          ]
        },
        {
          "data": {
            "text/plain": [
              "0.6347532301844219"
            ]
          },
          "execution_count": 26,
          "metadata": {},
          "output_type": "execute_result"
        }
      ]
    },
    {
      "cell_type": "markdown",
      "metadata": {
        "id": "PmVUMXEyUqCJ"
      },
      "source": [
        "#### 모델 학습"
      ]
    },
    {
      "cell_type": "code",
      "metadata": {
        "colab": {
          "base_uri": "https://localhost:8080/",
          "height": 282
        },
        "id": "U_Xpd5ezXoq6",
        "outputId": "f1b0bc4c-531f-4ce8-93d7-87a31605a2d6"
      },
      "source": [
        "from matplotlib.pyplot import plot\n",
        "\n",
        "y_train.plot.hist()"
      ],
      "execution_count": null,
      "outputs": [
        {
          "data": {
            "text/plain": [
              "<matplotlib.axes._subplots.AxesSubplot at 0x7f3ed8f90b10>"
            ]
          },
          "execution_count": 27,
          "metadata": {},
          "output_type": "execute_result"
        },
        {
          "data": {
            "image/png": "[encoded data removed]",
            "text/plain": [
              "<Figure size 432x288 with 1 Axes>"
            ]
          },
          "metadata": {},
          "output_type": "display_data"
        }
      ]
    },
    {
      "cell_type": "code",
      "metadata": {
        "id": "8rhgcJNhUrwF"
      },
      "source": [
        "# processor = make_pipeline(TargetEncoder(), SimpleImputer(), StandardScaler())\n",
        "\n",
        "# X_train_ready = processor.fit_transform(X_train, y_train)\n",
        "# X_val_ready = processor.transform(X_val)\n",
        "# X_test_ready = processor.transform(X_test)\n",
        "\n",
        "# eval_set = [(X_train_ready, y_train), (X_val_ready, y_val)]\n",
        "\n",
        "\n",
        "# dists = {'n_estimators': randint(20,500),\n",
        "#          'learning_rate': [0.01, 0.1, 1,5],\n",
        "#          'max_depth': randint(5,20),\n",
        "#          'scale_pos_weight' : [4,5],\n",
        "#          'gamma': [0.5, 1, 1.5, 2, 5],\n",
        "#          'reg_alpha': [0.0001, 0.001, 0.1, 1],\n",
        "#          'reg_lambda': [0.0001, 0.001, 0.1, 1]\n",
        "\n",
        "#          }\n",
        "\n",
        "# fit_paras = {'early_stopping_rounds':20,\n",
        "#              'eval_set': [[X_val_encoded, y_val]]\n",
        "#              }\n",
        "\n",
        "\n",
        "# clf = RandomizedSearchCV(XGBRegressor,\n",
        "#                          cv=3,\n",
        "#                          param_distributions = dists,\n",
        "#                          n_iter = 10,\n",
        "#                          scoring = 'r2',\n",
        "#                          n_jobs = -1)\n",
        "\n",
        "# clf.fit(X_train, y_train)\n"
      ],
      "execution_count": null,
      "outputs": []
    },
    {
      "cell_type": "code",
      "metadata": {
        "colab": {
          "base_uri": "https://localhost:8080/"
        },
        "id": "K7xrV3tEV14U",
        "outputId": "95c23dae-3a69-4712-a6da-14bff97d847f"
      },
      "source": [
        "df.isnull().sum()"
      ],
      "execution_count": null,
      "outputs": [
        {
          "data": {
            "text/plain": [
              "Title                 0\n",
              "Year                  0\n",
              "Age                4170\n",
              "IMDb                199\n",
              "Rotten Tomatoes       0\n",
              "Netflix               0\n",
              "Hulu                  0\n",
              "Prime Video           0\n",
              "Disney+               0\n",
              "Type                  0\n",
              "Directors             0\n",
              "Genres                0\n",
              "Country               0\n",
              "Language              0\n",
              "Runtime             315\n",
              "check_gerne           0\n",
              "check_director        0\n",
              "dtype: int64"
            ]
          },
          "execution_count": 32,
          "metadata": {},
          "output_type": "execute_result"
        }
      ]
    },
    {
      "cell_type": "code",
      "metadata": {
        "colab": {
          "base_uri": "https://localhost:8080/"
        },
        "id": "MAs1-oVHV9U0",
        "outputId": "ada14b1b-710c-4910-b9ed-486ad160bb0b"
      },
      "source": [
        "df.info()"
      ],
      "execution_count": null,
      "outputs": [
        {
          "name": "stdout",
          "output_type": "stream",
          "text": [
            "<class 'pandas.core.frame.DataFrame'>\n",
            "Int64Index: 9508 entries, 0 to 9514\n",
            "Data columns (total 17 columns):\n",
            " #   Column           Non-Null Count  Dtype  \n",
            "---  ------           --------------  -----  \n",
            " 0   Title            9508 non-null   object \n",
            " 1   Year             9508 non-null   int64  \n",
            " 2   Age              5338 non-null   float64\n",
            " 3   IMDb             9309 non-null   float64\n",
            " 4   Rotten Tomatoes  9508 non-null   float64\n",
            " 5   Netflix          9508 non-null   int64  \n",
            " 6   Hulu             9508 non-null   int64  \n",
            " 7   Prime Video      9508 non-null   int64  \n",
            " 8   Disney+          9508 non-null   int64  \n",
            " 9   Type             9508 non-null   int64  \n",
            " 10  Directors        9508 non-null   object \n",
            " 11  Genres           9508 non-null   object \n",
            " 12  Country          9508 non-null   object \n",
            " 13  Language         9508 non-null   object \n",
            " 14  Runtime          9193 non-null   float64\n",
            " 15  check_gerne      9508 non-null   int64  \n",
            " 16  check_director   9508 non-null   int64  \n",
            "dtypes: float64(4), int64(8), object(5)\n",
            "memory usage: 1.3+ MB\n"
          ]
        }
      ]
    },
    {
      "cell_type": "code",
      "metadata": {
        "colab": {
          "base_uri": "https://localhost:8080/"
        },
        "id": "ez09ujSFWU51",
        "outputId": "6c8380c1-5570-4a3a-828f-dbeb72054aa7"
      },
      "source": [
        "# 지금 이거로 하는 중\n",
        "from scipy.stats import randint\n",
        "from sklearn.model_selection import RandomizedSearchCV\n",
        "\n",
        "\n",
        "processor = make_pipeline(TargetEncoder(), SimpleImputer(), StandardScaler())\n",
        "\n",
        "X_train_ready = processor.fit_transform(X_train, y_train)\n",
        "X_val_ready = processor.transform(X_val)\n",
        "X_test_ready = processor.transform(X_test)\n",
        "# X_train_ori_ready = processor.transform(train_ori.drop(columns=target))\n",
        "\n",
        "eval_set = [(X_train_ready, y_train), (X_val_ready, y_val)]\n",
        "\n",
        "\n",
        "dists = {'n_estimators': randint(20,500),\n",
        "         'learning_rate': [0.01, 0.1, 1,5],\n",
        "         'max_depth': randint(5,20),\n",
        "         'scale_pos_weight' : [4,5],\n",
        "         'gamma': [0.5, 1, 1.5, 2, 5],\n",
        "         'reg_alpha': [0.0001, 0.001, 0.1, 1],\n",
        "         'reg_lambda': [0.0001, 0.001, 0.1, 1]\n",
        "         }\n",
        "\n",
        "fit_paras = {'early_stopping_rounds':20,\n",
        "             'eval_set': [[X_val_ready, y_val]]\n",
        "             }\n",
        "\n",
        "clf = RandomizedSearchCV(XGBRegressor(),\n",
        "                         cv=3,\n",
        "                         param_distributions = dists,\n",
        "                         n_iter = 10,\n",
        "                         scoring = 'r2',\n",
        "                         n_jobs = -1)\n"
      ],
      "execution_count": null,
      "outputs": [
        {
          "name": "stderr",
          "output_type": "stream",
          "text": [
            "/usr/local/lib/python3.7/dist-packages/category_encoders/utils.py:21: FutureWarning: is_categorical is deprecated and will be removed in a future version.  Use is_categorical_dtype instead\n",
            "  elif pd.api.types.is_categorical(cols):\n"
          ]
        }
      ]
    },
    {
      "cell_type": "code",
      "metadata": {
        "colab": {
          "base_uri": "https://localhost:8080/",
          "height": 941
        },
        "id": "xVEmaudVuiEV",
        "outputId": "d905507e-ca58-4099-dcb0-05225a062073"
      },
      "source": [
        "clf.fit(X_train_ready,y_train)"
      ],
      "execution_count": null,
      "outputs": [
        {
          "ename": "ValueError",
          "evalue": "ignored",
          "output_type": "error",
          "traceback": [
            "\u001b[0;31m---------------------------------------------------------------------------\u001b[0m",
            "\u001b[0;31m_RemoteTraceback\u001b[0m                          Traceback (most recent call last)",
            "\u001b[0;31m_RemoteTraceback\u001b[0m: \n\"\"\"\nTraceback (most recent call last):\n  File \"/usr/local/lib/python3.7/dist-packages/joblib/externals/loky/process_executor.py\", line 431, in _process_worker\n    r = call_item()\n  File \"/usr/local/lib/python3.7/dist-packages/joblib/externals/loky/process_executor.py\", line 285, in __call__\n    return self.fn(*self.args, **self.kwargs)\n  File \"/usr/local/lib/python3.7/dist-packages/joblib/_parallel_backends.py\", line 595, in __call__\n    return self.func(*args, **kwargs)\n  File \"/usr/local/lib/python3.7/dist-packages/joblib/parallel.py\", line 263, in __call__\n    for func, args, kwargs in self.items]\n  File \"/usr/local/lib/python3.7/dist-packages/joblib/parallel.py\", line 263, in <listcomp>\n    for func, args, kwargs in self.items]\n  File \"/usr/local/lib/python3.7/dist-packages/sklearn/model_selection/_validation.py\", line 544, in _fit_and_score\n    test_scores = _score(estimator, X_test, y_test, scorer)\n  File \"/usr/local/lib/python3.7/dist-packages/sklearn/model_selection/_validation.py\", line 591, in _score\n    scores = scorer(estimator, X_test, y_test)\n  File \"/usr/local/lib/python3.7/dist-packages/sklearn/metrics/_scorer.py\", line 87, in __call__\n    *args, **kwargs)\n  File \"/usr/local/lib/python3.7/dist-packages/sklearn/metrics/_scorer.py\", line 212, in _score\n    **self._kwargs)\n  File \"/usr/local/lib/python3.7/dist-packages/sklearn/metrics/_regression.py\", line 577, in r2_score\n    y_true, y_pred, multioutput)\n  File \"/usr/local/lib/python3.7/dist-packages/sklearn/metrics/_regression.py\", line 86, in _check_reg_targets\n    y_pred = check_array(y_pred, ensure_2d=False, dtype=dtype)\n  File \"/usr/local/lib/python3.7/dist-packages/sklearn/utils/validation.py\", line 578, in check_array\n    allow_nan=force_all_finite == 'allow-nan')\n  File \"/usr/local/lib/python3.7/dist-packages/sklearn/utils/validation.py\", line 60, in _assert_all_finite\n    msg_dtype if msg_dtype is not None else X.dtype)\nValueError: Input contains NaN, infinity or a value too large for dtype('float32').\n\"\"\"",
            "\nThe above exception was the direct cause of the following exception:\n",
            "\u001b[0;31mValueError\u001b[0m                                Traceback (most recent call last)",
            "\u001b[0;32m<ipython-input-39-52e762be375c>\u001b[0m in \u001b[0;36m<module>\u001b[0;34m()\u001b[0m\n\u001b[0;32m----> 1\u001b[0;31m \u001b[0mclf\u001b[0m\u001b[0;34m.\u001b[0m\u001b[0mfit\u001b[0m\u001b[0;34m(\u001b[0m\u001b[0mX_train_ready\u001b[0m\u001b[0;34m,\u001b[0m\u001b[0my_train\u001b[0m\u001b[0;34m)\u001b[0m\u001b[0;34m\u001b[0m\u001b[0;34m\u001b[0m\u001b[0m\n\u001b[0m",
            "\u001b[0;32m/usr/local/lib/python3.7/dist-packages/sklearn/model_selection/_search.py\u001b[0m in \u001b[0;36mfit\u001b[0;34m(self, X, y, groups, **fit_params)\u001b[0m\n\u001b[1;32m    708\u001b[0m                 \u001b[0;32mreturn\u001b[0m \u001b[0mresults\u001b[0m\u001b[0;34m\u001b[0m\u001b[0;34m\u001b[0m\u001b[0m\n\u001b[1;32m    709\u001b[0m \u001b[0;34m\u001b[0m\u001b[0m\n\u001b[0;32m--> 710\u001b[0;31m             \u001b[0mself\u001b[0m\u001b[0;34m.\u001b[0m\u001b[0m_run_search\u001b[0m\u001b[0;34m(\u001b[0m\u001b[0mevaluate_candidates\u001b[0m\u001b[0;34m)\u001b[0m\u001b[0;34m\u001b[0m\u001b[0;34m\u001b[0m\u001b[0m\n\u001b[0m\u001b[1;32m    711\u001b[0m \u001b[0;34m\u001b[0m\u001b[0m\n\u001b[1;32m    712\u001b[0m         \u001b[0;31m# For multi-metric evaluation, store the best_index_, best_params_ and\u001b[0m\u001b[0;34m\u001b[0m\u001b[0;34m\u001b[0m\u001b[0;34m\u001b[0m\u001b[0m\n",
            "\u001b[0;32m/usr/local/lib/python3.7/dist-packages/sklearn/model_selection/_search.py\u001b[0m in \u001b[0;36m_run_search\u001b[0;34m(self, evaluate_candidates)\u001b[0m\n\u001b[1;32m   1482\u001b[0m         evaluate_candidates(ParameterSampler(\n\u001b[1;32m   1483\u001b[0m             \u001b[0mself\u001b[0m\u001b[0;34m.\u001b[0m\u001b[0mparam_distributions\u001b[0m\u001b[0;34m,\u001b[0m \u001b[0mself\u001b[0m\u001b[0;34m.\u001b[0m\u001b[0mn_iter\u001b[0m\u001b[0;34m,\u001b[0m\u001b[0;34m\u001b[0m\u001b[0;34m\u001b[0m\u001b[0m\n\u001b[0;32m-> 1484\u001b[0;31m             random_state=self.random_state))\n\u001b[0m",
            "\u001b[0;32m/usr/local/lib/python3.7/dist-packages/sklearn/model_selection/_search.py\u001b[0m in \u001b[0;36mevaluate_candidates\u001b[0;34m(candidate_params)\u001b[0m\n\u001b[1;32m    687\u001b[0m                                \u001b[0;32mfor\u001b[0m \u001b[0mparameters\u001b[0m\u001b[0;34m,\u001b[0m \u001b[0;34m(\u001b[0m\u001b[0mtrain\u001b[0m\u001b[0;34m,\u001b[0m \u001b[0mtest\u001b[0m\u001b[0;34m)\u001b[0m\u001b[0;34m\u001b[0m\u001b[0;34m\u001b[0m\u001b[0m\n\u001b[1;32m    688\u001b[0m                                in product(candidate_params,\n\u001b[0;32m--> 689\u001b[0;31m                                           cv.split(X, y, groups)))\n\u001b[0m\u001b[1;32m    690\u001b[0m \u001b[0;34m\u001b[0m\u001b[0m\n\u001b[1;32m    691\u001b[0m                 \u001b[0;32mif\u001b[0m \u001b[0mlen\u001b[0m\u001b[0;34m(\u001b[0m\u001b[0mout\u001b[0m\u001b[0;34m)\u001b[0m \u001b[0;34m<\u001b[0m \u001b[0;36m1\u001b[0m\u001b[0;34m:\u001b[0m\u001b[0;34m\u001b[0m\u001b[0;34m\u001b[0m\u001b[0m\n",
            "\u001b[0;32m/usr/local/lib/python3.7/dist-packages/joblib/parallel.py\u001b[0m in \u001b[0;36m__call__\u001b[0;34m(self, iterable)\u001b[0m\n\u001b[1;32m   1052\u001b[0m \u001b[0;34m\u001b[0m\u001b[0m\n\u001b[1;32m   1053\u001b[0m             \u001b[0;32mwith\u001b[0m \u001b[0mself\u001b[0m\u001b[0;34m.\u001b[0m\u001b[0m_backend\u001b[0m\u001b[0;34m.\u001b[0m\u001b[0mretrieval_context\u001b[0m\u001b[0;34m(\u001b[0m\u001b[0;34m)\u001b[0m\u001b[0;34m:\u001b[0m\u001b[0;34m\u001b[0m\u001b[0;34m\u001b[0m\u001b[0m\n\u001b[0;32m-> 1054\u001b[0;31m                 \u001b[0mself\u001b[0m\u001b[0;34m.\u001b[0m\u001b[0mretrieve\u001b[0m\u001b[0;34m(\u001b[0m\u001b[0;34m)\u001b[0m\u001b[0;34m\u001b[0m\u001b[0;34m\u001b[0m\u001b[0m\n\u001b[0m\u001b[1;32m   1055\u001b[0m             \u001b[0;31m# Make sure that we get a last message telling us we are done\u001b[0m\u001b[0;34m\u001b[0m\u001b[0;34m\u001b[0m\u001b[0;34m\u001b[0m\u001b[0m\n\u001b[1;32m   1056\u001b[0m             \u001b[0melapsed_time\u001b[0m \u001b[0;34m=\u001b[0m \u001b[0mtime\u001b[0m\u001b[0;34m.\u001b[0m\u001b[0mtime\u001b[0m\u001b[0;34m(\u001b[0m\u001b[0;34m)\u001b[0m \u001b[0;34m-\u001b[0m \u001b[0mself\u001b[0m\u001b[0;34m.\u001b[0m\u001b[0m_start_time\u001b[0m\u001b[0;34m\u001b[0m\u001b[0;34m\u001b[0m\u001b[0m\n",
            "\u001b[0;32m/usr/local/lib/python3.7/dist-packages/joblib/parallel.py\u001b[0m in \u001b[0;36mretrieve\u001b[0;34m(self)\u001b[0m\n\u001b[1;32m    931\u001b[0m             \u001b[0;32mtry\u001b[0m\u001b[0;34m:\u001b[0m\u001b[0;34m\u001b[0m\u001b[0;34m\u001b[0m\u001b[0m\n\u001b[1;32m    932\u001b[0m                 \u001b[0;32mif\u001b[0m \u001b[0mgetattr\u001b[0m\u001b[0;34m(\u001b[0m\u001b[0mself\u001b[0m\u001b[0;34m.\u001b[0m\u001b[0m_backend\u001b[0m\u001b[0;34m,\u001b[0m \u001b[0;34m'supports_timeout'\u001b[0m\u001b[0;34m,\u001b[0m \u001b[0;32mFalse\u001b[0m\u001b[0;34m)\u001b[0m\u001b[0;34m:\u001b[0m\u001b[0;34m\u001b[0m\u001b[0;34m\u001b[0m\u001b[0m\n\u001b[0;32m--> 933\u001b[0;31m                     \u001b[0mself\u001b[0m\u001b[0;34m.\u001b[0m\u001b[0m_output\u001b[0m\u001b[0;34m.\u001b[0m\u001b[0mextend\u001b[0m\u001b[0;34m(\u001b[0m\u001b[0mjob\u001b[0m\u001b[0;34m.\u001b[0m\u001b[0mget\u001b[0m\u001b[0;34m(\u001b[0m\u001b[0mtimeout\u001b[0m\u001b[0;34m=\u001b[0m\u001b[0mself\u001b[0m\u001b[0;34m.\u001b[0m\u001b[0mtimeout\u001b[0m\u001b[0;34m)\u001b[0m\u001b[0;34m)\u001b[0m\u001b[0;34m\u001b[0m\u001b[0;34m\u001b[0m\u001b[0m\n\u001b[0m\u001b[1;32m    934\u001b[0m                 \u001b[0;32melse\u001b[0m\u001b[0;34m:\u001b[0m\u001b[0;34m\u001b[0m\u001b[0;34m\u001b[0m\u001b[0m\n\u001b[1;32m    935\u001b[0m                     \u001b[0mself\u001b[0m\u001b[0;34m.\u001b[0m\u001b[0m_output\u001b[0m\u001b[0;34m.\u001b[0m\u001b[0mextend\u001b[0m\u001b[0;34m(\u001b[0m\u001b[0mjob\u001b[0m\u001b[0;34m.\u001b[0m\u001b[0mget\u001b[0m\u001b[0;34m(\u001b[0m\u001b[0;34m)\u001b[0m\u001b[0;34m)\u001b[0m\u001b[0;34m\u001b[0m\u001b[0;34m\u001b[0m\u001b[0m\n",
            "\u001b[0;32m/usr/local/lib/python3.7/dist-packages/joblib/_parallel_backends.py\u001b[0m in \u001b[0;36mwrap_future_result\u001b[0;34m(future, timeout)\u001b[0m\n\u001b[1;32m    540\u001b[0m         AsyncResults.get from multiprocessing.\"\"\"\n\u001b[1;32m    541\u001b[0m         \u001b[0;32mtry\u001b[0m\u001b[0;34m:\u001b[0m\u001b[0;34m\u001b[0m\u001b[0;34m\u001b[0m\u001b[0m\n\u001b[0;32m--> 542\u001b[0;31m             \u001b[0;32mreturn\u001b[0m \u001b[0mfuture\u001b[0m\u001b[0;34m.\u001b[0m\u001b[0mresult\u001b[0m\u001b[0;34m(\u001b[0m\u001b[0mtimeout\u001b[0m\u001b[0;34m=\u001b[0m\u001b[0mtimeout\u001b[0m\u001b[0;34m)\u001b[0m\u001b[0;34m\u001b[0m\u001b[0;34m\u001b[0m\u001b[0m\n\u001b[0m\u001b[1;32m    543\u001b[0m         \u001b[0;32mexcept\u001b[0m \u001b[0mCfTimeoutError\u001b[0m \u001b[0;32mas\u001b[0m \u001b[0me\u001b[0m\u001b[0;34m:\u001b[0m\u001b[0;34m\u001b[0m\u001b[0;34m\u001b[0m\u001b[0m\n\u001b[1;32m    544\u001b[0m             \u001b[0;32mraise\u001b[0m \u001b[0mTimeoutError\u001b[0m \u001b[0;32mfrom\u001b[0m \u001b[0me\u001b[0m\u001b[0;34m\u001b[0m\u001b[0;34m\u001b[0m\u001b[0m\n",
            "\u001b[0;32m/usr/lib/python3.7/concurrent/futures/_base.py\u001b[0m in \u001b[0;36mresult\u001b[0;34m(self, timeout)\u001b[0m\n\u001b[1;32m    426\u001b[0m                 \u001b[0;32mraise\u001b[0m \u001b[0mCancelledError\u001b[0m\u001b[0;34m(\u001b[0m\u001b[0;34m)\u001b[0m\u001b[0;34m\u001b[0m\u001b[0;34m\u001b[0m\u001b[0m\n\u001b[1;32m    427\u001b[0m             \u001b[0;32melif\u001b[0m \u001b[0mself\u001b[0m\u001b[0;34m.\u001b[0m\u001b[0m_state\u001b[0m \u001b[0;34m==\u001b[0m \u001b[0mFINISHED\u001b[0m\u001b[0;34m:\u001b[0m\u001b[0;34m\u001b[0m\u001b[0;34m\u001b[0m\u001b[0m\n\u001b[0;32m--> 428\u001b[0;31m                 \u001b[0;32mreturn\u001b[0m \u001b[0mself\u001b[0m\u001b[0;34m.\u001b[0m\u001b[0m__get_result\u001b[0m\u001b[0;34m(\u001b[0m\u001b[0;34m)\u001b[0m\u001b[0;34m\u001b[0m\u001b[0;34m\u001b[0m\u001b[0m\n\u001b[0m\u001b[1;32m    429\u001b[0m \u001b[0;34m\u001b[0m\u001b[0m\n\u001b[1;32m    430\u001b[0m             \u001b[0mself\u001b[0m\u001b[0;34m.\u001b[0m\u001b[0m_condition\u001b[0m\u001b[0;34m.\u001b[0m\u001b[0mwait\u001b[0m\u001b[0;34m(\u001b[0m\u001b[0mtimeout\u001b[0m\u001b[0;34m)\u001b[0m\u001b[0;34m\u001b[0m\u001b[0;34m\u001b[0m\u001b[0m\n",
            "\u001b[0;32m/usr/lib/python3.7/concurrent/futures/_base.py\u001b[0m in \u001b[0;36m__get_result\u001b[0;34m(self)\u001b[0m\n\u001b[1;32m    382\u001b[0m     \u001b[0;32mdef\u001b[0m \u001b[0m__get_result\u001b[0m\u001b[0;34m(\u001b[0m\u001b[0mself\u001b[0m\u001b[0;34m)\u001b[0m\u001b[0;34m:\u001b[0m\u001b[0;34m\u001b[0m\u001b[0;34m\u001b[0m\u001b[0m\n\u001b[1;32m    383\u001b[0m         \u001b[0;32mif\u001b[0m \u001b[0mself\u001b[0m\u001b[0;34m.\u001b[0m\u001b[0m_exception\u001b[0m\u001b[0;34m:\u001b[0m\u001b[0;34m\u001b[0m\u001b[0;34m\u001b[0m\u001b[0m\n\u001b[0;32m--> 384\u001b[0;31m             \u001b[0;32mraise\u001b[0m \u001b[0mself\u001b[0m\u001b[0;34m.\u001b[0m\u001b[0m_exception\u001b[0m\u001b[0;34m\u001b[0m\u001b[0;34m\u001b[0m\u001b[0m\n\u001b[0m\u001b[1;32m    385\u001b[0m         \u001b[0;32melse\u001b[0m\u001b[0;34m:\u001b[0m\u001b[0;34m\u001b[0m\u001b[0;34m\u001b[0m\u001b[0m\n\u001b[1;32m    386\u001b[0m             \u001b[0;32mreturn\u001b[0m \u001b[0mself\u001b[0m\u001b[0;34m.\u001b[0m\u001b[0m_result\u001b[0m\u001b[0;34m\u001b[0m\u001b[0;34m\u001b[0m\u001b[0m\n",
            "\u001b[0;31mValueError\u001b[0m: Input contains NaN, infinity or a value too large for dtype('float32')."
          ]
        }
      ]
    },
    {
      "cell_type": "code",
      "metadata": {
        "id": "VzlhYa38ZeEV"
      },
      "source": [
        "clf.best_score_"
      ],
      "execution_count": null,
      "outputs": []
    },
    {
      "cell_type": "code",
      "metadata": {
        "id": "frfHiGsGZs1h"
      },
      "source": [
        "clf.best_params_"
      ],
      "execution_count": null,
      "outputs": []
    },
    {
      "cell_type": "code",
      "metadata": {
        "id": "Kntv4vP6ZZJ0"
      },
      "source": [
        "clf.score(X_val_ready, y_val)"
      ],
      "execution_count": null,
      "outputs": []
    },
    {
      "cell_type": "code",
      "metadata": {
        "id": "iXCJ-8u3Zdom"
      },
      "source": [
        "clf.score(X_test_ready,y_test)"
      ],
      "execution_count": null,
      "outputs": []
    },
    {
      "cell_type": "code",
      "metadata": {
        "colab": {
          "base_uri": "https://localhost:8080/"
        },
        "id": "KCtnMQvfZ6Ou",
        "outputId": "9d9f2444-6c7a-4427-d204-6b105cb93981"
      },
      "source": [
        "# 두번째 시도\n",
        "%%time\n",
        "from scipy.stats import randint\n",
        "from sklearn.model_selection import RandomizedSearchCV\n",
        "\n",
        "\n",
        "processor = make_pipeline(TargetEncoder(), SimpleImputer(), StandardScaler())\n",
        "\n",
        "X_train_ready = processor.fit_transform(X_train, y_train)\n",
        "X_val_ready = processor.transform(X_val)\n",
        "X_test_ready = processor.transform(X_test)\n",
        "# X_train_ori_ready = processor.transform(train_ori.drop(columns=target))\n",
        "\n",
        "eval_set = [(X_train_ready, y_train), (X_val_ready, y_val)]\n",
        "\n",
        "\n",
        "dists = {'n_estimators': randint(20,500),\n",
        "         'learning_rate': [0.01, 0.1, 1,5],\n",
        "         'max_depth': randint(5,20),\n",
        "         'scale_pos_weight' : [4,5],\n",
        "         'gamma': [0.5, 1, 1.5, 2, 5],\n",
        "         'reg_alpha': [0.0001, 0.001, 0.1, 1],\n",
        "         'reg_lambda': [0.0001, 0.001, 0.1, 1]\n",
        "         }\n",
        "\n",
        "fit_paras = {'early_stopping_rounds':40,\n",
        "             'eval_set': eval_set,\n",
        "             'eval_metric': 'mae'\n",
        "             }\n",
        "\n",
        "clf = RandomizedSearchCV(XGBRegressor(),\n",
        "                         cv=3,\n",
        "                         param_distributions = dists,\n",
        "                         n_iter = 10,\n",
        "                         scoring = 'r2',\n",
        "                         n_jobs = -1)\n",
        "clf.fit(X_train_ready, y_train, **fit_paras)"
      ],
      "execution_count": null,
      "outputs": [
        {
          "name": "stderr",
          "output_type": "stream",
          "text": [
            "/usr/local/lib/python3.7/dist-packages/category_encoders/utils.py:21: FutureWarning: is_categorical is deprecated and will be removed in a future version.  Use is_categorical_dtype instead\n",
            "  elif pd.api.types.is_categorical(cols):\n"
          ]
        },
        {
          "name": "stdout",
          "output_type": "stream",
          "text": [
            "[15:44:11] WARNING: /workspace/src/objective/regression_obj.cu:152: reg:linear is now deprecated in favor of reg:squarederror.\n",
            "[0]\tvalidation_0-mae:52.4998\tvalidation_1-mae:52.4152\n",
            "Multiple eval metrics have been passed: 'validation_1-mae' will be used for early stopping.\n",
            "\n",
            "Will train until validation_1-mae hasn't improved in 40 rounds.\n",
            "[1]\tvalidation_0-mae:51.9778\tvalidation_1-mae:51.8943\n",
            "[2]\tvalidation_0-mae:51.461\tvalidation_1-mae:51.3788\n",
            "[3]\tvalidation_0-mae:50.9494\tvalidation_1-mae:50.8685\n",
            "[4]\tvalidation_0-mae:50.4428\tvalidation_1-mae:50.3627\n",
            "[5]\tvalidation_0-mae:49.9413\tvalidation_1-mae:49.8626\n",
            "[6]\tvalidation_0-mae:49.4449\tvalidation_1-mae:49.3679\n",
            "[7]\tvalidation_0-mae:48.9533\tvalidation_1-mae:48.8782\n",
            "[8]\tvalidation_0-mae:48.4667\tvalidation_1-mae:48.3939\n",
            "[9]\tvalidation_0-mae:47.985\tvalidation_1-mae:47.9143\n",
            "[10]\tvalidation_0-mae:47.508\tvalidation_1-mae:47.4396\n",
            "[11]\tvalidation_0-mae:47.036\tvalidation_1-mae:46.9683\n",
            "[12]\tvalidation_0-mae:46.5685\tvalidation_1-mae:46.5044\n",
            "[13]\tvalidation_0-mae:46.1055\tvalidation_1-mae:46.0431\n",
            "[14]\tvalidation_0-mae:45.6475\tvalidation_1-mae:45.5862\n",
            "[15]\tvalidation_0-mae:45.194\tvalidation_1-mae:45.1355\n",
            "[16]\tvalidation_0-mae:44.7452\tvalidation_1-mae:44.6872\n",
            "[17]\tvalidation_0-mae:44.3005\tvalidation_1-mae:44.2452\n",
            "[18]\tvalidation_0-mae:43.8604\tvalidation_1-mae:43.8083\n",
            "[19]\tvalidation_0-mae:43.4248\tvalidation_1-mae:43.374\n",
            "[20]\tvalidation_0-mae:42.9934\tvalidation_1-mae:42.9446\n",
            "[21]\tvalidation_0-mae:42.5665\tvalidation_1-mae:42.5181\n",
            "[22]\tvalidation_0-mae:42.1437\tvalidation_1-mae:42.0973\n",
            "[23]\tvalidation_0-mae:41.7249\tvalidation_1-mae:41.6784\n",
            "[24]\tvalidation_0-mae:41.3104\tvalidation_1-mae:41.2666\n",
            "[25]\tvalidation_0-mae:40.8999\tvalidation_1-mae:40.8559\n",
            "[26]\tvalidation_0-mae:40.4937\tvalidation_1-mae:40.4522\n",
            "[27]\tvalidation_0-mae:40.0913\tvalidation_1-mae:40.05\n",
            "[28]\tvalidation_0-mae:39.6932\tvalidation_1-mae:39.6545\n",
            "[29]\tvalidation_0-mae:39.2988\tvalidation_1-mae:39.2598\n",
            "[30]\tvalidation_0-mae:38.9086\tvalidation_1-mae:38.8724\n",
            "[31]\tvalidation_0-mae:38.5219\tvalidation_1-mae:38.4851\n",
            "[32]\tvalidation_0-mae:38.1393\tvalidation_1-mae:38.1059\n",
            "[33]\tvalidation_0-mae:37.7604\tvalidation_1-mae:37.7283\n",
            "[34]\tvalidation_0-mae:37.3853\tvalidation_1-mae:37.3543\n",
            "[35]\tvalidation_0-mae:37.014\tvalidation_1-mae:36.9861\n",
            "[36]\tvalidation_0-mae:36.6465\tvalidation_1-mae:36.6215\n",
            "[37]\tvalidation_0-mae:36.2827\tvalidation_1-mae:36.2604\n",
            "[38]\tvalidation_0-mae:35.9224\tvalidation_1-mae:35.9002\n",
            "[39]\tvalidation_0-mae:35.5659\tvalidation_1-mae:35.5464\n",
            "[40]\tvalidation_0-mae:35.213\tvalidation_1-mae:35.196\n",
            "[41]\tvalidation_0-mae:34.8633\tvalidation_1-mae:34.8471\n",
            "[42]\tvalidation_0-mae:34.5174\tvalidation_1-mae:34.5045\n",
            "[43]\tvalidation_0-mae:34.175\tvalidation_1-mae:34.1637\n",
            "[44]\tvalidation_0-mae:33.8364\tvalidation_1-mae:33.8249\n",
            "[45]\tvalidation_0-mae:33.501\tvalidation_1-mae:33.4905\n",
            "[46]\tvalidation_0-mae:33.1689\tvalidation_1-mae:33.1605\n",
            "[47]\tvalidation_0-mae:32.8404\tvalidation_1-mae:32.832\n",
            "[48]\tvalidation_0-mae:32.5149\tvalidation_1-mae:32.5072\n",
            "[49]\tvalidation_0-mae:32.1926\tvalidation_1-mae:32.1857\n",
            "[50]\tvalidation_0-mae:31.8737\tvalidation_1-mae:31.8702\n",
            "[51]\tvalidation_0-mae:31.5583\tvalidation_1-mae:31.5561\n",
            "[52]\tvalidation_0-mae:31.2457\tvalidation_1-mae:31.2433\n",
            "[53]\tvalidation_0-mae:30.936\tvalidation_1-mae:30.9349\n",
            "[54]\tvalidation_0-mae:30.6297\tvalidation_1-mae:30.6309\n",
            "[55]\tvalidation_0-mae:30.3265\tvalidation_1-mae:30.3291\n",
            "[56]\tvalidation_0-mae:30.0266\tvalidation_1-mae:30.0299\n",
            "[57]\tvalidation_0-mae:29.7293\tvalidation_1-mae:29.7354\n",
            "[58]\tvalidation_0-mae:29.4357\tvalidation_1-mae:29.4415\n",
            "[59]\tvalidation_0-mae:29.1448\tvalidation_1-mae:29.1511\n",
            "[60]\tvalidation_0-mae:28.8564\tvalidation_1-mae:28.8656\n",
            "[61]\tvalidation_0-mae:28.5714\tvalidation_1-mae:28.5818\n",
            "[62]\tvalidation_0-mae:28.2888\tvalidation_1-mae:28.3009\n",
            "[63]\tvalidation_0-mae:28.0097\tvalidation_1-mae:28.0219\n",
            "[64]\tvalidation_0-mae:27.7332\tvalidation_1-mae:27.7475\n",
            "[65]\tvalidation_0-mae:27.459\tvalidation_1-mae:27.4755\n",
            "[66]\tvalidation_0-mae:27.1882\tvalidation_1-mae:27.2059\n",
            "[67]\tvalidation_0-mae:26.9194\tvalidation_1-mae:26.9396\n",
            "[68]\tvalidation_0-mae:26.6532\tvalidation_1-mae:26.6752\n",
            "[69]\tvalidation_0-mae:26.3904\tvalidation_1-mae:26.413\n",
            "[70]\tvalidation_0-mae:26.1295\tvalidation_1-mae:26.1538\n",
            "[71]\tvalidation_0-mae:25.8723\tvalidation_1-mae:25.8955\n",
            "[72]\tvalidation_0-mae:25.6172\tvalidation_1-mae:25.6428\n",
            "[73]\tvalidation_0-mae:25.364\tvalidation_1-mae:25.3922\n",
            "[74]\tvalidation_0-mae:25.1145\tvalidation_1-mae:25.1429\n",
            "[75]\tvalidation_0-mae:24.8672\tvalidation_1-mae:24.8972\n",
            "[76]\tvalidation_0-mae:24.6222\tvalidation_1-mae:24.6547\n",
            "[77]\tvalidation_0-mae:24.379\tvalidation_1-mae:24.4145\n",
            "[78]\tvalidation_0-mae:24.139\tvalidation_1-mae:24.1767\n",
            "[79]\tvalidation_0-mae:23.9003\tvalidation_1-mae:23.9416\n",
            "[80]\tvalidation_0-mae:23.6652\tvalidation_1-mae:23.7095\n",
            "[81]\tvalidation_0-mae:23.4315\tvalidation_1-mae:23.4797\n",
            "[82]\tvalidation_0-mae:23.2015\tvalidation_1-mae:23.2504\n",
            "[83]\tvalidation_0-mae:22.9736\tvalidation_1-mae:23.0253\n",
            "[84]\tvalidation_0-mae:22.7478\tvalidation_1-mae:22.8015\n",
            "[85]\tvalidation_0-mae:22.5232\tvalidation_1-mae:22.5792\n",
            "[86]\tvalidation_0-mae:22.302\tvalidation_1-mae:22.3614\n",
            "[87]\tvalidation_0-mae:22.0819\tvalidation_1-mae:22.1438\n",
            "[88]\tvalidation_0-mae:21.8656\tvalidation_1-mae:21.9287\n",
            "[89]\tvalidation_0-mae:21.6509\tvalidation_1-mae:21.7165\n",
            "[90]\tvalidation_0-mae:21.4384\tvalidation_1-mae:21.506\n",
            "[91]\tvalidation_0-mae:21.2269\tvalidation_1-mae:21.2979\n",
            "[92]\tvalidation_0-mae:21.0188\tvalidation_1-mae:21.0914\n",
            "[93]\tvalidation_0-mae:20.8129\tvalidation_1-mae:20.8878\n",
            "[94]\tvalidation_0-mae:20.6077\tvalidation_1-mae:20.6852\n",
            "[95]\tvalidation_0-mae:20.4059\tvalidation_1-mae:20.4846\n",
            "[96]\tvalidation_0-mae:20.2062\tvalidation_1-mae:20.2862\n",
            "[97]\tvalidation_0-mae:20.0085\tvalidation_1-mae:20.0916\n",
            "[98]\tvalidation_0-mae:19.8129\tvalidation_1-mae:19.897\n",
            "[99]\tvalidation_0-mae:19.6193\tvalidation_1-mae:19.7061\n",
            "[100]\tvalidation_0-mae:19.4276\tvalidation_1-mae:19.5177\n",
            "[101]\tvalidation_0-mae:19.2381\tvalidation_1-mae:19.3295\n",
            "[102]\tvalidation_0-mae:19.0499\tvalidation_1-mae:19.1435\n",
            "[103]\tvalidation_0-mae:18.8628\tvalidation_1-mae:18.9593\n",
            "[104]\tvalidation_0-mae:18.6786\tvalidation_1-mae:18.7791\n",
            "[105]\tvalidation_0-mae:18.4965\tvalidation_1-mae:18.5989\n",
            "[106]\tvalidation_0-mae:18.315\tvalidation_1-mae:18.4205\n",
            "[107]\tvalidation_0-mae:18.1366\tvalidation_1-mae:18.2453\n",
            "[108]\tvalidation_0-mae:17.9598\tvalidation_1-mae:18.0698\n",
            "[109]\tvalidation_0-mae:17.7839\tvalidation_1-mae:17.8972\n",
            "[110]\tvalidation_0-mae:17.6112\tvalidation_1-mae:17.7263\n",
            "[111]\tvalidation_0-mae:17.4397\tvalidation_1-mae:17.5582\n",
            "[112]\tvalidation_0-mae:17.2691\tvalidation_1-mae:17.3918\n",
            "[113]\tvalidation_0-mae:17.1018\tvalidation_1-mae:17.228\n",
            "[114]\tvalidation_0-mae:16.936\tvalidation_1-mae:17.0647\n",
            "[115]\tvalidation_0-mae:16.7716\tvalidation_1-mae:16.9047\n",
            "[116]\tvalidation_0-mae:16.6092\tvalidation_1-mae:16.7471\n",
            "[117]\tvalidation_0-mae:16.4483\tvalidation_1-mae:16.5898\n",
            "[118]\tvalidation_0-mae:16.288\tvalidation_1-mae:16.4344\n",
            "[119]\tvalidation_0-mae:16.1311\tvalidation_1-mae:16.2817\n",
            "[120]\tvalidation_0-mae:15.9742\tvalidation_1-mae:16.1298\n",
            "[121]\tvalidation_0-mae:15.8204\tvalidation_1-mae:15.9811\n",
            "[122]\tvalidation_0-mae:15.6679\tvalidation_1-mae:15.8335\n",
            "[123]\tvalidation_0-mae:15.5158\tvalidation_1-mae:15.6874\n",
            "[124]\tvalidation_0-mae:15.3671\tvalidation_1-mae:15.5435\n",
            "[125]\tvalidation_0-mae:15.22\tvalidation_1-mae:15.4014\n",
            "[126]\tvalidation_0-mae:15.0738\tvalidation_1-mae:15.2609\n",
            "[127]\tvalidation_0-mae:14.928\tvalidation_1-mae:15.1228\n",
            "[128]\tvalidation_0-mae:14.7856\tvalidation_1-mae:14.9867\n",
            "[129]\tvalidation_0-mae:14.6447\tvalidation_1-mae:14.8532\n",
            "[130]\tvalidation_0-mae:14.5048\tvalidation_1-mae:14.7201\n",
            "[131]\tvalidation_0-mae:14.3653\tvalidation_1-mae:14.5874\n",
            "[132]\tvalidation_0-mae:14.2285\tvalidation_1-mae:14.4581\n",
            "[133]\tvalidation_0-mae:14.094\tvalidation_1-mae:14.3303\n",
            "[134]\tvalidation_0-mae:13.9603\tvalidation_1-mae:14.2042\n",
            "[135]\tvalidation_0-mae:13.827\tvalidation_1-mae:14.0784\n",
            "[136]\tvalidation_0-mae:13.6964\tvalidation_1-mae:13.9554\n",
            "[137]\tvalidation_0-mae:13.568\tvalidation_1-mae:13.8339\n",
            "[138]\tvalidation_0-mae:13.4392\tvalidation_1-mae:13.7122\n",
            "[139]\tvalidation_0-mae:13.3135\tvalidation_1-mae:13.594\n",
            "[140]\tvalidation_0-mae:13.1886\tvalidation_1-mae:13.4766\n",
            "[141]\tvalidation_0-mae:13.0659\tvalidation_1-mae:13.3621\n",
            "[142]\tvalidation_0-mae:12.9426\tvalidation_1-mae:13.2465\n",
            "[143]\tvalidation_0-mae:12.8219\tvalidation_1-mae:13.1338\n",
            "[144]\tvalidation_0-mae:12.7035\tvalidation_1-mae:13.0233\n",
            "[145]\tvalidation_0-mae:12.5845\tvalidation_1-mae:12.9122\n",
            "[146]\tvalidation_0-mae:12.4682\tvalidation_1-mae:12.803\n",
            "[147]\tvalidation_0-mae:12.354\tvalidation_1-mae:12.6964\n",
            "[148]\tvalidation_0-mae:12.2412\tvalidation_1-mae:12.5916\n",
            "[149]\tvalidation_0-mae:12.1277\tvalidation_1-mae:12.4851\n",
            "[150]\tvalidation_0-mae:12.0176\tvalidation_1-mae:12.3829\n",
            "[151]\tvalidation_0-mae:11.9069\tvalidation_1-mae:12.2801\n",
            "[152]\tvalidation_0-mae:11.7993\tvalidation_1-mae:12.1812\n",
            "[153]\tvalidation_0-mae:11.6928\tvalidation_1-mae:12.0831\n",
            "[154]\tvalidation_0-mae:11.587\tvalidation_1-mae:11.9855\n",
            "[155]\tvalidation_0-mae:11.4833\tvalidation_1-mae:11.891\n",
            "[156]\tvalidation_0-mae:11.3789\tvalidation_1-mae:11.7954\n",
            "[157]\tvalidation_0-mae:11.2772\tvalidation_1-mae:11.702\n",
            "[158]\tvalidation_0-mae:11.1753\tvalidation_1-mae:11.6088\n",
            "[159]\tvalidation_0-mae:11.0765\tvalidation_1-mae:11.5197\n",
            "[160]\tvalidation_0-mae:10.9787\tvalidation_1-mae:11.4309\n",
            "[161]\tvalidation_0-mae:10.882\tvalidation_1-mae:11.3427\n",
            "[162]\tvalidation_0-mae:10.7865\tvalidation_1-mae:11.2569\n",
            "[163]\tvalidation_0-mae:10.6923\tvalidation_1-mae:11.1722\n",
            "[164]\tvalidation_0-mae:10.5994\tvalidation_1-mae:11.0883\n",
            "[165]\tvalidation_0-mae:10.5079\tvalidation_1-mae:11.0047\n",
            "[166]\tvalidation_0-mae:10.4161\tvalidation_1-mae:10.9216\n",
            "[167]\tvalidation_0-mae:10.3271\tvalidation_1-mae:10.842\n",
            "[168]\tvalidation_0-mae:10.2391\tvalidation_1-mae:10.762\n",
            "[169]\tvalidation_0-mae:10.1526\tvalidation_1-mae:10.686\n",
            "[170]\tvalidation_0-mae:10.0675\tvalidation_1-mae:10.6112\n",
            "[171]\tvalidation_0-mae:9.98397\tvalidation_1-mae:10.5358\n",
            "[172]\tvalidation_0-mae:9.90139\tvalidation_1-mae:10.4635\n",
            "[173]\tvalidation_0-mae:9.81934\tvalidation_1-mae:10.3909\n",
            "[174]\tvalidation_0-mae:9.73773\tvalidation_1-mae:10.3183\n",
            "[175]\tvalidation_0-mae:9.65843\tvalidation_1-mae:10.249\n",
            "[176]\tvalidation_0-mae:9.5804\tvalidation_1-mae:10.1808\n",
            "[177]\tvalidation_0-mae:9.50349\tvalidation_1-mae:10.1136\n",
            "[178]\tvalidation_0-mae:9.42763\tvalidation_1-mae:10.0475\n",
            "[179]\tvalidation_0-mae:9.3525\tvalidation_1-mae:9.98225\n",
            "[180]\tvalidation_0-mae:9.27853\tvalidation_1-mae:9.91894\n",
            "[181]\tvalidation_0-mae:9.20576\tvalidation_1-mae:9.85639\n",
            "[182]\tvalidation_0-mae:9.13424\tvalidation_1-mae:9.79429\n",
            "[183]\tvalidation_0-mae:9.06344\tvalidation_1-mae:9.73378\n",
            "[184]\tvalidation_0-mae:8.9919\tvalidation_1-mae:9.67121\n",
            "[185]\tvalidation_0-mae:8.92277\tvalidation_1-mae:9.61175\n",
            "[186]\tvalidation_0-mae:8.85469\tvalidation_1-mae:9.55303\n",
            "[187]\tvalidation_0-mae:8.78723\tvalidation_1-mae:9.49524\n",
            "[188]\tvalidation_0-mae:8.72085\tvalidation_1-mae:9.43895\n",
            "[189]\tvalidation_0-mae:8.65518\tvalidation_1-mae:9.38383\n",
            "[190]\tvalidation_0-mae:8.59081\tvalidation_1-mae:9.32929\n",
            "[191]\tvalidation_0-mae:8.5269\tvalidation_1-mae:9.27574\n",
            "[192]\tvalidation_0-mae:8.4643\tvalidation_1-mae:9.22213\n",
            "[193]\tvalidation_0-mae:8.40095\tvalidation_1-mae:9.16791\n",
            "[194]\tvalidation_0-mae:8.33998\tvalidation_1-mae:9.11667\n",
            "[195]\tvalidation_0-mae:8.2802\tvalidation_1-mae:9.06552\n",
            "[196]\tvalidation_0-mae:8.22118\tvalidation_1-mae:9.01521\n",
            "[197]\tvalidation_0-mae:8.16229\tvalidation_1-mae:8.96398\n",
            "[198]\tvalidation_0-mae:8.1041\tvalidation_1-mae:8.91274\n",
            "[199]\tvalidation_0-mae:8.04767\tvalidation_1-mae:8.86423\n",
            "[200]\tvalidation_0-mae:7.99198\tvalidation_1-mae:8.81646\n",
            "[201]\tvalidation_0-mae:7.93631\tvalidation_1-mae:8.76746\n",
            "[202]\tvalidation_0-mae:7.8815\tvalidation_1-mae:8.71931\n",
            "[203]\tvalidation_0-mae:7.82834\tvalidation_1-mae:8.67291\n",
            "[204]\tvalidation_0-mae:7.77518\tvalidation_1-mae:8.62637\n",
            "[205]\tvalidation_0-mae:7.72285\tvalidation_1-mae:8.58105\n",
            "[206]\tvalidation_0-mae:7.67144\tvalidation_1-mae:8.53657\n",
            "[207]\tvalidation_0-mae:7.62072\tvalidation_1-mae:8.49237\n",
            "[208]\tvalidation_0-mae:7.57081\tvalidation_1-mae:8.45043\n",
            "[209]\tvalidation_0-mae:7.52157\tvalidation_1-mae:8.40815\n",
            "[210]\tvalidation_0-mae:7.47292\tvalidation_1-mae:8.36622\n",
            "[211]\tvalidation_0-mae:7.42497\tvalidation_1-mae:8.32461\n",
            "[212]\tvalidation_0-mae:7.37777\tvalidation_1-mae:8.28441\n",
            "[213]\tvalidation_0-mae:7.33104\tvalidation_1-mae:8.24468\n",
            "[214]\tvalidation_0-mae:7.28577\tvalidation_1-mae:8.20729\n",
            "[215]\tvalidation_0-mae:7.24014\tvalidation_1-mae:8.16879\n",
            "[216]\tvalidation_0-mae:7.19585\tvalidation_1-mae:8.13237\n",
            "[217]\tvalidation_0-mae:7.15183\tvalidation_1-mae:8.09566\n",
            "[218]\tvalidation_0-mae:7.1083\tvalidation_1-mae:8.05996\n",
            "[219]\tvalidation_0-mae:7.06515\tvalidation_1-mae:8.02394\n",
            "[220]\tvalidation_0-mae:7.02303\tvalidation_1-mae:7.98876\n",
            "[221]\tvalidation_0-mae:6.98114\tvalidation_1-mae:7.95399\n",
            "[222]\tvalidation_0-mae:6.93889\tvalidation_1-mae:7.91946\n",
            "[223]\tvalidation_0-mae:6.89878\tvalidation_1-mae:7.88645\n",
            "[224]\tvalidation_0-mae:6.85899\tvalidation_1-mae:7.85386\n",
            "[225]\tvalidation_0-mae:6.81849\tvalidation_1-mae:7.8215\n",
            "[226]\tvalidation_0-mae:6.77971\tvalidation_1-mae:7.7891\n",
            "[227]\tvalidation_0-mae:6.74162\tvalidation_1-mae:7.75706\n",
            "[228]\tvalidation_0-mae:6.70305\tvalidation_1-mae:7.72563\n",
            "[229]\tvalidation_0-mae:6.66601\tvalidation_1-mae:7.69424\n",
            "[230]\tvalidation_0-mae:6.63005\tvalidation_1-mae:7.66488\n",
            "[231]\tvalidation_0-mae:6.59418\tvalidation_1-mae:7.63451\n",
            "[232]\tvalidation_0-mae:6.55943\tvalidation_1-mae:7.60616\n",
            "[233]\tvalidation_0-mae:6.52489\tvalidation_1-mae:7.57679\n",
            "[234]\tvalidation_0-mae:6.4915\tvalidation_1-mae:7.55096\n",
            "[235]\tvalidation_0-mae:6.45727\tvalidation_1-mae:7.52405\n",
            "[236]\tvalidation_0-mae:6.42479\tvalidation_1-mae:7.49794\n",
            "[237]\tvalidation_0-mae:6.39229\tvalidation_1-mae:7.47025\n",
            "[238]\tvalidation_0-mae:6.35916\tvalidation_1-mae:7.44388\n",
            "[239]\tvalidation_0-mae:6.32814\tvalidation_1-mae:7.41976\n",
            "[240]\tvalidation_0-mae:6.29705\tvalidation_1-mae:7.39395\n",
            "[241]\tvalidation_0-mae:6.26616\tvalidation_1-mae:7.36912\n",
            "[242]\tvalidation_0-mae:6.23614\tvalidation_1-mae:7.34422\n",
            "[243]\tvalidation_0-mae:6.20605\tvalidation_1-mae:7.32042\n",
            "[244]\tvalidation_0-mae:6.17654\tvalidation_1-mae:7.29689\n",
            "[245]\tvalidation_0-mae:6.14771\tvalidation_1-mae:7.27261\n",
            "[246]\tvalidation_0-mae:6.11935\tvalidation_1-mae:7.24874\n",
            "[247]\tvalidation_0-mae:6.09118\tvalidation_1-mae:7.22589\n",
            "[248]\tvalidation_0-mae:6.06402\tvalidation_1-mae:7.20422\n",
            "[249]\tvalidation_0-mae:6.03679\tvalidation_1-mae:7.1816\n",
            "[250]\tvalidation_0-mae:6.00985\tvalidation_1-mae:7.1603\n",
            "[251]\tvalidation_0-mae:5.98333\tvalidation_1-mae:7.13858\n",
            "[252]\tvalidation_0-mae:5.95723\tvalidation_1-mae:7.11781\n",
            "[253]\tvalidation_0-mae:5.93176\tvalidation_1-mae:7.09839\n",
            "[254]\tvalidation_0-mae:5.90613\tvalidation_1-mae:7.07729\n",
            "[255]\tvalidation_0-mae:5.88107\tvalidation_1-mae:7.05747\n",
            "[256]\tvalidation_0-mae:5.8568\tvalidation_1-mae:7.03813\n",
            "[257]\tvalidation_0-mae:5.83337\tvalidation_1-mae:7.01973\n",
            "[258]\tvalidation_0-mae:5.81039\tvalidation_1-mae:7.00226\n",
            "[259]\tvalidation_0-mae:5.78698\tvalidation_1-mae:6.98423\n",
            "[260]\tvalidation_0-mae:5.76515\tvalidation_1-mae:6.96771\n",
            "[261]\tvalidation_0-mae:5.74268\tvalidation_1-mae:6.95001\n",
            "[262]\tvalidation_0-mae:5.72043\tvalidation_1-mae:6.93301\n",
            "[263]\tvalidation_0-mae:5.6987\tvalidation_1-mae:6.91637\n",
            "[264]\tvalidation_0-mae:5.67768\tvalidation_1-mae:6.90057\n",
            "[265]\tvalidation_0-mae:5.65646\tvalidation_1-mae:6.88464\n",
            "[266]\tvalidation_0-mae:5.63508\tvalidation_1-mae:6.86798\n",
            "[267]\tvalidation_0-mae:5.61449\tvalidation_1-mae:6.85266\n",
            "[268]\tvalidation_0-mae:5.59455\tvalidation_1-mae:6.83763\n",
            "[269]\tvalidation_0-mae:5.57525\tvalidation_1-mae:6.82319\n",
            "[270]\tvalidation_0-mae:5.55565\tvalidation_1-mae:6.80852\n",
            "[271]\tvalidation_0-mae:5.53641\tvalidation_1-mae:6.79401\n",
            "[272]\tvalidation_0-mae:5.51702\tvalidation_1-mae:6.77915\n",
            "[273]\tvalidation_0-mae:5.49843\tvalidation_1-mae:6.76524\n",
            "[274]\tvalidation_0-mae:5.47984\tvalidation_1-mae:6.75099\n",
            "[275]\tvalidation_0-mae:5.46153\tvalidation_1-mae:6.73711\n",
            "[276]\tvalidation_0-mae:5.44386\tvalidation_1-mae:6.72358\n",
            "[277]\tvalidation_0-mae:5.42616\tvalidation_1-mae:6.71004\n",
            "[278]\tvalidation_0-mae:5.40942\tvalidation_1-mae:6.69714\n",
            "[279]\tvalidation_0-mae:5.39234\tvalidation_1-mae:6.68426\n",
            "[280]\tvalidation_0-mae:5.37537\tvalidation_1-mae:6.67152\n",
            "[281]\tvalidation_0-mae:5.3588\tvalidation_1-mae:6.65948\n",
            "[282]\tvalidation_0-mae:5.34267\tvalidation_1-mae:6.64718\n",
            "[283]\tvalidation_0-mae:5.32648\tvalidation_1-mae:6.63497\n",
            "[284]\tvalidation_0-mae:5.31069\tvalidation_1-mae:6.62339\n",
            "[285]\tvalidation_0-mae:5.29485\tvalidation_1-mae:6.61179\n",
            "[286]\tvalidation_0-mae:5.27968\tvalidation_1-mae:6.6004\n",
            "[287]\tvalidation_0-mae:5.26483\tvalidation_1-mae:6.59068\n",
            "[288]\tvalidation_0-mae:5.24975\tvalidation_1-mae:6.57919\n",
            "[289]\tvalidation_0-mae:5.23539\tvalidation_1-mae:6.56865\n",
            "[290]\tvalidation_0-mae:5.22123\tvalidation_1-mae:6.55862\n",
            "[291]\tvalidation_0-mae:5.20761\tvalidation_1-mae:6.54852\n",
            "[292]\tvalidation_0-mae:5.19392\tvalidation_1-mae:6.53972\n",
            "[293]\tvalidation_0-mae:5.17986\tvalidation_1-mae:6.52867\n",
            "[294]\tvalidation_0-mae:5.16599\tvalidation_1-mae:6.5182\n",
            "[295]\tvalidation_0-mae:5.15187\tvalidation_1-mae:6.50805\n",
            "[296]\tvalidation_0-mae:5.13861\tvalidation_1-mae:6.4986\n",
            "[297]\tvalidation_0-mae:5.12522\tvalidation_1-mae:6.48868\n",
            "[298]\tvalidation_0-mae:5.11224\tvalidation_1-mae:6.47945\n",
            "[299]\tvalidation_0-mae:5.09998\tvalidation_1-mae:6.47166\n",
            "[300]\tvalidation_0-mae:5.08755\tvalidation_1-mae:6.46291\n",
            "[301]\tvalidation_0-mae:5.07504\tvalidation_1-mae:6.45413\n",
            "[302]\tvalidation_0-mae:5.0624\tvalidation_1-mae:6.44497\n",
            "[303]\tvalidation_0-mae:5.05012\tvalidation_1-mae:6.43555\n",
            "[304]\tvalidation_0-mae:5.03756\tvalidation_1-mae:6.42748\n",
            "[305]\tvalidation_0-mae:5.026\tvalidation_1-mae:6.41911\n",
            "[306]\tvalidation_0-mae:5.01483\tvalidation_1-mae:6.41113\n",
            "[307]\tvalidation_0-mae:5.00317\tvalidation_1-mae:6.40322\n",
            "[308]\tvalidation_0-mae:4.99198\tvalidation_1-mae:6.39657\n",
            "[309]\tvalidation_0-mae:4.9803\tvalidation_1-mae:6.38798\n",
            "[310]\tvalidation_0-mae:4.96864\tvalidation_1-mae:6.3808\n",
            "[311]\tvalidation_0-mae:4.95797\tvalidation_1-mae:6.37364\n",
            "[312]\tvalidation_0-mae:4.9477\tvalidation_1-mae:6.36695\n",
            "[313]\tvalidation_0-mae:4.93702\tvalidation_1-mae:6.36027\n",
            "[314]\tvalidation_0-mae:4.92631\tvalidation_1-mae:6.35308\n",
            "[315]\tvalidation_0-mae:4.91634\tvalidation_1-mae:6.34586\n",
            "[316]\tvalidation_0-mae:4.90621\tvalidation_1-mae:6.33922\n",
            "[317]\tvalidation_0-mae:4.89593\tvalidation_1-mae:6.33227\n",
            "[318]\tvalidation_0-mae:4.88648\tvalidation_1-mae:6.32597\n",
            "[319]\tvalidation_0-mae:4.87703\tvalidation_1-mae:6.32006\n",
            "[320]\tvalidation_0-mae:4.86772\tvalidation_1-mae:6.31466\n",
            "[321]\tvalidation_0-mae:4.8585\tvalidation_1-mae:6.30835\n",
            "[322]\tvalidation_0-mae:4.84948\tvalidation_1-mae:6.30254\n",
            "[323]\tvalidation_0-mae:4.84038\tvalidation_1-mae:6.29636\n",
            "[324]\tvalidation_0-mae:4.83071\tvalidation_1-mae:6.28977\n",
            "[325]\tvalidation_0-mae:4.82147\tvalidation_1-mae:6.28395\n",
            "[326]\tvalidation_0-mae:4.81309\tvalidation_1-mae:6.27835\n",
            "[327]\tvalidation_0-mae:4.80425\tvalidation_1-mae:6.27293\n",
            "[328]\tvalidation_0-mae:4.79605\tvalidation_1-mae:6.26799\n",
            "[329]\tvalidation_0-mae:4.78754\tvalidation_1-mae:6.26298\n",
            "[330]\tvalidation_0-mae:4.7793\tvalidation_1-mae:6.25761\n",
            "[331]\tvalidation_0-mae:4.77039\tvalidation_1-mae:6.25204\n",
            "[332]\tvalidation_0-mae:4.76227\tvalidation_1-mae:6.24732\n",
            "[333]\tvalidation_0-mae:4.75445\tvalidation_1-mae:6.24251\n",
            "[334]\tvalidation_0-mae:4.74658\tvalidation_1-mae:6.23772\n",
            "[335]\tvalidation_0-mae:4.739\tvalidation_1-mae:6.23309\n",
            "[336]\tvalidation_0-mae:4.7307\tvalidation_1-mae:6.22804\n",
            "[337]\tvalidation_0-mae:4.72263\tvalidation_1-mae:6.22379\n",
            "[338]\tvalidation_0-mae:4.71453\tvalidation_1-mae:6.21899\n",
            "[339]\tvalidation_0-mae:4.70732\tvalidation_1-mae:6.21473\n",
            "[340]\tvalidation_0-mae:4.70011\tvalidation_1-mae:6.21036\n",
            "[341]\tvalidation_0-mae:4.69287\tvalidation_1-mae:6.20606\n",
            "[342]\tvalidation_0-mae:4.68578\tvalidation_1-mae:6.20205\n",
            "[343]\tvalidation_0-mae:4.6783\tvalidation_1-mae:6.19805\n",
            "[344]\tvalidation_0-mae:4.67068\tvalidation_1-mae:6.1937\n",
            "[345]\tvalidation_0-mae:4.66354\tvalidation_1-mae:6.18982\n",
            "[346]\tvalidation_0-mae:4.65615\tvalidation_1-mae:6.18561\n",
            "[347]\tvalidation_0-mae:4.64921\tvalidation_1-mae:6.18186\n",
            "[348]\tvalidation_0-mae:4.64283\tvalidation_1-mae:6.17736\n",
            "[349]\tvalidation_0-mae:4.63586\tvalidation_1-mae:6.17354\n",
            "[350]\tvalidation_0-mae:4.62968\tvalidation_1-mae:6.16915\n",
            "[351]\tvalidation_0-mae:4.62376\tvalidation_1-mae:6.16549\n",
            "[352]\tvalidation_0-mae:4.61698\tvalidation_1-mae:6.16139\n",
            "[353]\tvalidation_0-mae:4.61035\tvalidation_1-mae:6.15793\n",
            "[354]\tvalidation_0-mae:4.60507\tvalidation_1-mae:6.15502\n",
            "[355]\tvalidation_0-mae:4.59847\tvalidation_1-mae:6.15138\n",
            "[356]\tvalidation_0-mae:4.59175\tvalidation_1-mae:6.14803\n",
            "[357]\tvalidation_0-mae:4.58627\tvalidation_1-mae:6.14489\n",
            "[358]\tvalidation_0-mae:4.58007\tvalidation_1-mae:6.14172\n",
            "[359]\tvalidation_0-mae:4.57518\tvalidation_1-mae:6.13921\n",
            "[360]\tvalidation_0-mae:4.57041\tvalidation_1-mae:6.13676\n",
            "[361]\tvalidation_0-mae:4.56406\tvalidation_1-mae:6.13364\n",
            "[362]\tvalidation_0-mae:4.55875\tvalidation_1-mae:6.1306\n",
            "[363]\tvalidation_0-mae:4.55316\tvalidation_1-mae:6.12728\n",
            "[364]\tvalidation_0-mae:4.54742\tvalidation_1-mae:6.12415\n",
            "[365]\tvalidation_0-mae:4.54202\tvalidation_1-mae:6.12101\n",
            "[366]\tvalidation_0-mae:4.53736\tvalidation_1-mae:6.1185\n",
            "[367]\tvalidation_0-mae:4.53179\tvalidation_1-mae:6.11564\n",
            "[368]\tvalidation_0-mae:4.52631\tvalidation_1-mae:6.11323\n",
            "[369]\tvalidation_0-mae:4.52133\tvalidation_1-mae:6.11033\n",
            "[370]\tvalidation_0-mae:4.517\tvalidation_1-mae:6.10788\n",
            "[371]\tvalidation_0-mae:4.51128\tvalidation_1-mae:6.10427\n",
            "[372]\tvalidation_0-mae:4.50552\tvalidation_1-mae:6.10085\n",
            "[373]\tvalidation_0-mae:4.50073\tvalidation_1-mae:6.09823\n",
            "[374]\tvalidation_0-mae:4.49662\tvalidation_1-mae:6.09591\n",
            "[375]\tvalidation_0-mae:4.49112\tvalidation_1-mae:6.09258\n",
            "[376]\tvalidation_0-mae:4.48655\tvalidation_1-mae:6.09047\n",
            "[377]\tvalidation_0-mae:4.48163\tvalidation_1-mae:6.08823\n",
            "[378]\tvalidation_0-mae:4.47635\tvalidation_1-mae:6.08531\n",
            "[379]\tvalidation_0-mae:4.47208\tvalidation_1-mae:6.08306\n",
            "[380]\tvalidation_0-mae:4.46808\tvalidation_1-mae:6.08093\n",
            "[381]\tvalidation_0-mae:4.46351\tvalidation_1-mae:6.07891\n",
            "[382]\tvalidation_0-mae:4.46012\tvalidation_1-mae:6.07684\n",
            "[383]\tvalidation_0-mae:4.45642\tvalidation_1-mae:6.07491\n",
            "[384]\tvalidation_0-mae:4.45107\tvalidation_1-mae:6.07227\n",
            "[385]\tvalidation_0-mae:4.44709\tvalidation_1-mae:6.07032\n",
            "[386]\tvalidation_0-mae:4.44383\tvalidation_1-mae:6.06831\n",
            "[387]\tvalidation_0-mae:4.4398\tvalidation_1-mae:6.06596\n",
            "[388]\tvalidation_0-mae:4.43603\tvalidation_1-mae:6.06407\n",
            "[389]\tvalidation_0-mae:4.4315\tvalidation_1-mae:6.06172\n",
            "[390]\tvalidation_0-mae:4.42765\tvalidation_1-mae:6.06057\n",
            "[391]\tvalidation_0-mae:4.42301\tvalidation_1-mae:6.05797\n",
            "[392]\tvalidation_0-mae:4.41987\tvalidation_1-mae:6.05574\n",
            "[393]\tvalidation_0-mae:4.41664\tvalidation_1-mae:6.05379\n",
            "[394]\tvalidation_0-mae:4.4138\tvalidation_1-mae:6.05204\n",
            "[395]\tvalidation_0-mae:4.40939\tvalidation_1-mae:6.05\n",
            "CPU times: user 5.81 s, sys: 289 ms, total: 6.1 s\n",
            "Wall time: 46.8 s\n"
          ]
        }
      ]
    },
    {
      "cell_type": "code",
      "metadata": {
        "colab": {
          "base_uri": "https://localhost:8080/"
        },
        "id": "zRqLO_k_ba1_",
        "outputId": "235c1c9a-68cc-440b-8760-bac1f05ccc2a"
      },
      "source": [
        "clf.best_params_"
      ],
      "execution_count": null,
      "outputs": [
        {
          "data": {
            "text/plain": [
              "{'gamma': 1,\n",
              " 'learning_rate': 0.01,\n",
              " 'max_depth': 7,\n",
              " 'n_estimators': 396,\n",
              " 'reg_alpha': 1,\n",
              " 'reg_lambda': 1,\n",
              " 'scale_pos_weight': 4}"
            ]
          },
          "execution_count": 41,
          "metadata": {},
          "output_type": "execute_result"
        }
      ]
    },
    {
      "cell_type": "code",
      "metadata": {
        "colab": {
          "base_uri": "https://localhost:8080/"
        },
        "id": "oe0yNneQbebg",
        "outputId": "59d45695-05fa-473b-b89d-1ef51654983f"
      },
      "source": [
        "clf.score(X_val_ready,y_val)"
      ],
      "execution_count": null,
      "outputs": [
        {
          "data": {
            "text/plain": [
              "0.652452560993139"
            ]
          },
          "execution_count": 42,
          "metadata": {},
          "output_type": "execute_result"
        }
      ]
    },
    {
      "cell_type": "code",
      "metadata": {
        "colab": {
          "base_uri": "https://localhost:8080/"
        },
        "id": "j8q7ynOHbgov",
        "outputId": "756497f9-07cf-4ea2-a6eb-42c7db8a68b6"
      },
      "source": [
        "clf.score(X_test_ready,y_test)"
      ],
      "execution_count": null,
      "outputs": [
        {
          "data": {
            "text/plain": [
              "0.6327649662146404"
            ]
          },
          "execution_count": 43,
          "metadata": {},
          "output_type": "execute_result"
        }
      ]
    },
    {
      "cell_type": "code",
      "metadata": {
        "colab": {
          "base_uri": "https://localhost:8080/"
        },
        "id": "OBu71eWpe1vG",
        "outputId": "18de9b81-27fa-489d-b235-89274995f0ec"
      },
      "source": [
        "# 세번째 시도\n",
        "%%time\n",
        "from scipy.stats import randint\n",
        "from sklearn.model_selection import RandomizedSearchCV, GridSearchCV\n",
        "\n",
        "\n",
        "processor = make_pipeline(TargetEncoder(), SimpleImputer(), StandardScaler())\n",
        "\n",
        "train_4, test_4 = train_test_split(df)\n",
        "X_train_4 = train_4.drop(columns=target)\n",
        "y_train_4 = train_4[target]\n",
        "X_test_4 = test_4.drop(columns=target)\n",
        "y_test_4 = test_4[target]\n",
        "\n",
        "X_train_4 = processor.fit_transform(X_train_4, y_train_4)\n",
        "X_test_4 = processor.transform(X_test_4)\n",
        "\n",
        "\n",
        "dists = {'n_estimators': [50, 100, 150, 200],\n",
        "         'learning_rate': [0.001, 0.01, 0.1],\n",
        "         'max_depth': [5, 10, 15, 20],\n",
        "         'gamma': [0.1, 0.5, 1, 1.5, 2],\n",
        "         'reg_alpha': [0.0001, 0.001, 0.1, 1],\n",
        "         'reg_lambda': [0.0001, 0.001, 0.1, 1]\n",
        "         }\n",
        "\n",
        "\n",
        "clf = RandomizedSearchCV(XGBRegressor(),\n",
        "                         cv=5,\n",
        "                         param_distributions = dists,\n",
        "                         n_iter = 10,\n",
        "                         scoring = 'r2',\n",
        "                         n_jobs = -1)\n",
        "clf.fit(X_train_4 , y_train_4)"
      ],
      "execution_count": null,
      "outputs": [
        {
          "name": "stderr",
          "output_type": "stream",
          "text": [
            "/usr/local/lib/python3.7/dist-packages/category_encoders/utils.py:21: FutureWarning: is_categorical is deprecated and will be removed in a future version.  Use is_categorical_dtype instead\n",
            "  elif pd.api.types.is_categorical(cols):\n"
          ]
        },
        {
          "name": "stdout",
          "output_type": "stream",
          "text": [
            "[15:47:00] WARNING: /workspace/src/objective/regression_obj.cu:152: reg:linear is now deprecated in favor of reg:squarederror.\n",
            "CPU times: user 5.72 s, sys: 157 ms, total: 5.88 s\n",
            "Wall time: 1min 28s\n"
          ]
        }
      ]
    },
    {
      "cell_type": "code",
      "metadata": {
        "colab": {
          "base_uri": "https://localhost:8080/"
        },
        "id": "Vu-JnEYju_6s",
        "outputId": "887df684-09ad-4a66-c191-cab2693d7512"
      },
      "source": [
        "clf.best_params_"
      ],
      "execution_count": null,
      "outputs": [
        {
          "data": {
            "text/plain": [
              "{'gamma': 0.1,\n",
              " 'learning_rate': 0.1,\n",
              " 'max_depth': 15,\n",
              " 'n_estimators': 200,\n",
              " 'reg_alpha': 0.1,\n",
              " 'reg_lambda': 0.0001}"
            ]
          },
          "execution_count": 47,
          "metadata": {},
          "output_type": "execute_result"
        }
      ]
    },
    {
      "cell_type": "code",
      "metadata": {
        "colab": {
          "base_uri": "https://localhost:8080/"
        },
        "id": "n2NKtrqmvA-r",
        "outputId": "c0e154a1-27ce-40c5-affd-f99f28d9f8cd"
      },
      "source": [
        "clf.score(X_val_ready,y_val)"
      ],
      "execution_count": null,
      "outputs": [
        {
          "data": {
            "text/plain": [
              "0.7136851621220515"
            ]
          },
          "execution_count": 48,
          "metadata": {},
          "output_type": "execute_result"
        }
      ]
    },
    {
      "cell_type": "code",
      "metadata": {
        "colab": {
          "base_uri": "https://localhost:8080/"
        },
        "id": "ze3XOXTlvBzk",
        "outputId": "4d778547-53c9-4d95-8c19-8ae91e9d1df3"
      },
      "source": [
        "clf.score(X_test_ready,y_test)"
      ],
      "execution_count": null,
      "outputs": [
        {
          "data": {
            "text/plain": [
              "0.7087785821996551"
            ]
          },
          "execution_count": 49,
          "metadata": {},
          "output_type": "execute_result"
        }
      ]
    },
    {
      "cell_type": "code",
      "metadata": {
        "id": "zVDHgR1JrIde"
      },
      "source": [
        "# 세번째 시도로 target값만 바꿔보기\n",
        "%%time\n",
        "from scipy.stats import randint\n",
        "from sklearn.model_selection import RandomizedSearchCV, GridSearchCV\n",
        "\n",
        "\n",
        "processor = make_pipeline(TargetEncoder(), SimpleImputer(), StandardScaler())\n",
        "\n",
        "train_4, test_4 = train_test_split(df)\n",
        "X_train_4 = train_4.drop(columns=target)\n",
        "y_train_4 = train_4[target]\n",
        "X_test_4 = test_4.drop(columns=target)\n",
        "y_test_4 = test_4[target]\n",
        "\n",
        "X_train_4 = processor.fit_transform(X_train_4, y_train_4)\n",
        "X_test_4 = processor.transform(X_test_4)\n",
        "\n",
        "\n",
        "dists = {'n_estimators': [50, 100, 150, 200],\n",
        "         'learning_rate': [0.001, 0.01, 0.1],\n",
        "         'max_depth': [5, 10, 15, 20],\n",
        "         'gamma': [0.1, 0.5, 1, 1.5, 2],\n",
        "         'reg_alpha': [0.0001, 0.001, 0.1, 1],\n",
        "         'reg_lambda': [0.0001, 0.001, 0.1, 1]\n",
        "         }\n",
        "\n",
        "\n",
        "clf = RandomizedSearchCV(XGBRegressor(),\n",
        "                         cv=5,\n",
        "                         param_distributions = dists,\n",
        "                         n_iter = 10,\n",
        "                         scoring = 'r2',\n",
        "                         n_jobs = -1)\n",
        "clf.fit(X_train_4 , y_train_4)"
      ],
      "execution_count": null,
      "outputs": []
    },
    {
      "cell_type": "code",
      "metadata": {
        "colab": {
          "background_save": true,
          "base_uri": "https://localhost:8080/"
        },
        "id": "vrbPIflbb5Mv",
        "outputId": "ac990da6-fa53-4355-a6c0-271faa35e896"
      },
      "source": [
        "# 네번째 시도\n",
        "%%time\n",
        "from scipy.stats import randint\n",
        "from sklearn.model_selection import RandomizedSearchCV, GridSearchCV\n",
        "\n",
        "\n",
        "processor = make_pipeline(TargetEncoder(), SimpleImputer(), StandardScaler())\n",
        "\n",
        "X_train_ready = processor.fit_transform(X_train, y_train)\n",
        "X_val_ready = processor.transform(X_val)\n",
        "X_test_ready = processor.transform(X_test)\n",
        "# X_train_ori_ready = processor.transform(train_ori.drop(columns=target))\n",
        "\n",
        "eval_set = [(X_train_ready, y_train), (X_val_ready, y_val)]\n",
        "\n",
        "\n",
        "dists = {'n_estimators': [50, 100, 150, 200],\n",
        "         'learning_rate': [0.001, 0.01, 0.1],\n",
        "         'max_depth': [5, 10, 15, 20],\n",
        "         'gamma': [0.1, 0.5, 1, 1.5, 2],\n",
        "         'reg_alpha': [0.0001, 0.001, 0.1, 1],\n",
        "         'reg_lambda': [0.0001, 0.001, 0.1, 1]\n",
        "         }\n",
        "\n",
        "fit_paras = {'early_stopping_rounds':40,\n",
        "             'eval_set': eval_set,\n",
        "             'eval_metric': 'mae'\n",
        "             }\n",
        "\n",
        "clf = GridSearchCV(XGBRegressor(),\n",
        "                         cv=3,\n",
        "                         param_grid = dists,\n",
        "                         scoring = 'r2',\n",
        "                         n_jobs = -1)\n",
        "clf.fit(X_train_ready, y_train, **fit_paras)"
      ],
      "execution_count": null,
      "outputs": [
        {
          "name": "stderr",
          "output_type": "stream",
          "text": [
            "/usr/local/lib/python3.7/dist-packages/category_encoders/utils.py:21: FutureWarning: is_categorical is deprecated and will be removed in a future version.  Use is_categorical_dtype instead\n",
            "  elif pd.api.types.is_categorical(cols):\n"
          ]
        }
      ]
    },
    {
      "cell_type": "code",
      "metadata": {
        "id": "XirpIZLgwBXT"
      },
      "source": [
        "clf.best_params_"
      ],
      "execution_count": null,
      "outputs": []
    },
    {
      "cell_type": "code",
      "metadata": {
        "id": "aiRmSnD6wCI4"
      },
      "source": [
        "clf.score(X_val_ready,y_val)"
      ],
      "execution_count": null,
      "outputs": []
    },
    {
      "cell_type": "code",
      "metadata": {
        "id": "KpYqD6LwwC2j"
      },
      "source": [
        "clf.score(X_test_ready,y_test)"
      ],
      "execution_count": null,
      "outputs": []
    },
    {
      "cell_type": "markdown",
      "metadata": {
        "id": "m5ATdXR5x0Cc"
      },
      "source": [
        "## 모델2"
      ]
    },
    {
      "cell_type": "code",
      "metadata": {
        "id": "wx3ebN3py1hs"
      },
      "source": [
        ""
      ],
      "execution_count": null,
      "outputs": []
    },
    {
      "cell_type": "markdown",
      "metadata": {
        "id": "AseRaF9wx5kg"
      },
      "source": [
        "### 전처리"
      ]
    },
    {
      "cell_type": "markdown",
      "metadata": {
        "id": "8vD4vV4byGIf"
      },
      "source": [
        "#### Age\n",
        "- '+'제거\n",
        "- all -> 0\n",
        "- astype('float')\n",
        "\n",
        "  Age는 순서는 있어도 그 폭과는 상관 없다. target encoder로 처리될 수 있도록 fillna('missing')처리"
      ]
    },
    {
      "cell_type": "code",
      "metadata": {
        "colab": {
          "base_uri": "https://localhost:8080/"
        },
        "id": "HqCFxRI7yGIf",
        "outputId": "a42bded2-17b8-41ec-f084-10dabfe1137b"
      },
      "source": [
        "# Age\n",
        "df_01 = df_ori.copy()\n",
        "\n",
        "df_01.Age = df_01.Age.str.replace('+','').replace('all',0)\n",
        "df_01.Age = df_01.Age.astype('float')\n",
        "print(df_01.Age.value_counts(dropna=False))\n",
        "\n",
        "df_01.info()"
      ],
      "execution_count": null,
      "outputs": [
        {
          "name": "stdout",
          "output_type": "stream",
          "text": [
            "NaN     4170\n",
            "18.0    2276\n",
            "7.0     1090\n",
            "13.0     998\n",
            "0.0      698\n",
            "16.0     276\n",
            "Name: Age, dtype: int64\n",
            "<class 'pandas.core.frame.DataFrame'>\n",
            "Int64Index: 9508 entries, 0 to 9514\n",
            "Data columns (total 15 columns):\n",
            " #   Column           Non-Null Count  Dtype  \n",
            "---  ------           --------------  -----  \n",
            " 0   Title            9508 non-null   object \n",
            " 1   Year             9508 non-null   int64  \n",
            " 2   Age              5338 non-null   float64\n",
            " 3   IMDb             9309 non-null   object \n",
            " 4   Rotten Tomatoes  9508 non-null   float64\n",
            " 5   Netflix          9508 non-null   int64  \n",
            " 6   Hulu             9508 non-null   int64  \n",
            " 7   Prime Video      9508 non-null   int64  \n",
            " 8   Disney+          9508 non-null   int64  \n",
            " 9   Type             9508 non-null   int64  \n",
            " 10  Directors        9102 non-null   object \n",
            " 11  Genres           9395 non-null   object \n",
            " 12  Country          9259 non-null   object \n",
            " 13  Language         9200 non-null   object \n",
            " 14  Runtime          9193 non-null   float64\n",
            "dtypes: float64(3), int64(6), object(6)\n",
            "memory usage: 1.2+ MB\n"
          ]
        }
      ]
    },
    {
      "cell_type": "markdown",
      "metadata": {
        "id": "zWpfGrroyqNR"
      },
      "source": [
        "#### IMDb\n",
        "- '/10'제거\n",
        "- astype('float')"
      ]
    },
    {
      "cell_type": "code",
      "metadata": {
        "colab": {
          "base_uri": "https://localhost:8080/"
        },
        "id": "pfwSth-dyqNm",
        "outputId": "e8245f88-382a-4ef1-a3b3-40820e8ed825"
      },
      "source": [
        "# IMDb\n",
        "df_02 = df_01.copy()\n",
        "\n",
        "df_02.IMDb = df_02.IMDb.str.replace('/10','')\n",
        "df_02.IMDb = pd.to_numeric(df_02.IMDb)\n",
        "\n",
        "df_02.info()"
      ],
      "execution_count": null,
      "outputs": [
        {
          "name": "stdout",
          "output_type": "stream",
          "text": [
            "<class 'pandas.core.frame.DataFrame'>\n",
            "Int64Index: 9508 entries, 0 to 9514\n",
            "Data columns (total 15 columns):\n",
            " #   Column           Non-Null Count  Dtype  \n",
            "---  ------           --------------  -----  \n",
            " 0   Title            9508 non-null   object \n",
            " 1   Year             9508 non-null   int64  \n",
            " 2   Age              5338 non-null   float64\n",
            " 3   IMDb             9309 non-null   float64\n",
            " 4   Rotten Tomatoes  9508 non-null   float64\n",
            " 5   Netflix          9508 non-null   int64  \n",
            " 6   Hulu             9508 non-null   int64  \n",
            " 7   Prime Video      9508 non-null   int64  \n",
            " 8   Disney+          9508 non-null   int64  \n",
            " 9   Type             9508 non-null   int64  \n",
            " 10  Directors        9102 non-null   object \n",
            " 11  Genres           9395 non-null   object \n",
            " 12  Country          9259 non-null   object \n",
            " 13  Language         9200 non-null   object \n",
            " 14  Runtime          9193 non-null   float64\n",
            "dtypes: float64(4), int64(6), object(5)\n",
            "memory usage: 1.2+ MB\n"
          ]
        }
      ]
    },
    {
      "cell_type": "code",
      "metadata": {
        "id": "72wM0gQ5yqNn"
      },
      "source": [
        "# 위 코드보다 아래 코드가 memory, time usage에서 어떠한지 확인해보기\n",
        "data[\"IMDb\"] = [float(score[0:3]) for score in data[\"IMDb\"]]\n",
        "data[\"Rotten Tomatoes\"] = [float(score[0:2]) for score in data[\"Rotten Tomatoes\"]]"
      ],
      "execution_count": null,
      "outputs": []
    }
  ]
}